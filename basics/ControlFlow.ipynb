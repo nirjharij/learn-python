{
 "cells": [
  {
   "cell_type": "markdown",
   "id": "c29c4224-94ea-4e82-9ab6-b6b6e4db6753",
   "metadata": {},
   "source": [
    "<h1>Control Flow in Python</h1>\n",
    "\n",
    " - Control flow refers to the order in which a program is executed\n",
    " - There are different types of control flow:\n",
    "     - Conditional Statements - if-else, match, pass\n",
    "     - Loops - for and while\n",
    "     - Jump statements - break, continue\n",
    "     - Function calls"
   ]
  },
  {
   "cell_type": "markdown",
   "id": "9fa1be9c-0546-444f-bd86-0aa7125d9513",
   "metadata": {},
   "source": [
    "<h3>CONDITIONAL STATEMENTS</h3>"
   ]
  },
  {
   "cell_type": "markdown",
   "id": "a26cd960-833e-4192-a1d7-a9121b414b5b",
   "metadata": {},
   "source": [
    "<h4>if - else</h4>"
   ]
  },
  {
   "cell_type": "code",
   "execution_count": 4,
   "id": "91b14329-9bd6-45b7-a736-4ccf6bee275f",
   "metadata": {},
   "outputs": [
    {
     "name": "stdin",
     "output_type": "stream",
     "text": [
      "Enter a number:  2\n"
     ]
    },
    {
     "name": "stdout",
     "output_type": "stream",
     "text": [
      "Number is less than 10\n"
     ]
    }
   ],
   "source": [
    "num = int(input(\"Enter a number: \"))\n",
    "if (num < 10):\n",
    "    print(\"Number is less than 10\")\n",
    "elif (num == 10):\n",
    "    print(\"Number is equal to 10\")\n",
    "else:\n",
    "    print(\"Number is greater than 10\")"
   ]
  },
  {
   "cell_type": "code",
   "execution_count": 5,
   "id": "dffae277-3388-428e-83be-d947ead0e0d0",
   "metadata": {},
   "outputs": [],
   "source": [
    "# Write a program to implement a game in which 2 dice is rolled and user has to guess if the \n",
    "# total of the dice roll is less than, greater than or equal to 7\n",
    "# The user wins if his guess matches the result"
   ]
  },
  {
   "cell_type": "markdown",
   "id": "bda13790-a022-4bec-bf2b-04cd60f66a04",
   "metadata": {},
   "source": [
    "<h4>match</h4>"
   ]
  },
  {
   "cell_type": "code",
   "execution_count": 6,
   "id": "667f1ee4-da99-4a7a-b69a-cb378de40754",
   "metadata": {},
   "outputs": [
    {
     "name": "stdout",
     "output_type": "stream",
     "text": [
      "GO\n"
     ]
    }
   ],
   "source": [
    "signal = 'GREEN'\n",
    "match signal:\n",
    "    case 'RED':\n",
    "        print('STOP')\n",
    "    case 'GREEN':\n",
    "        print('GO')"
   ]
  },
  {
   "cell_type": "code",
   "execution_count": 7,
   "id": "a04b4e2d-8a5f-43b6-bf99-a0df4baa2219",
   "metadata": {},
   "outputs": [
    {
     "name": "stdout",
     "output_type": "stream",
     "text": [
      "Number is greater than 10\n"
     ]
    }
   ],
   "source": [
    "# match with if condition\n",
    "import random\n",
    "num = random.randint(0,20)\n",
    "match num:\n",
    "    case num if num < 10:\n",
    "        print(\"Number is less than 10\")\n",
    "    case num if num > 10:\n",
    "        print(\"Number is greater than 10\")\n",
    "    case _:\n",
    "        print(\"Number is equal to 10\")"
   ]
  },
  {
   "cell_type": "code",
   "execution_count": 8,
   "id": "3f50b00e-98f3-46f3-8851-baa93901077d",
   "metadata": {},
   "outputs": [
    {
     "name": "stdout",
     "output_type": "stream",
     "text": [
      "Individual player game: Chess, winner: Viswanathan Anand\n",
      "Team game: Cricket, winning team: India\n",
      "Game: Badminton, No result\n",
      "No data\n"
     ]
    }
   ],
   "source": [
    "# match dictionary pattern\n",
    "def match_data(d):\n",
    "    match d:\n",
    "        case {\"game\": g, \"winner\": w}:\n",
    "            print(f\"Individual player game: {g}, winner: {w}\")\n",
    "        case {\"game\": g, \"winning_team\": wt}:\n",
    "            print(f\"Team game: {g}, winning team: {wt}\")\n",
    "        case {\"game\": g}:\n",
    "            print(f\"Game: {g}, No result\")\n",
    "        case _:\n",
    "            print(\"No data\")\n",
    "\n",
    "match_data({\"game\": \"Chess\", \"winner\": \"Viswanathan Anand\"})\n",
    "match_data({\"game\": \"Cricket\", \"winning_team\": \"India\"})\n",
    "match_data({\"game\": \"Badminton\"})\n",
    "match_data({})"
   ]
  },
  {
   "cell_type": "code",
   "execution_count": 9,
   "id": "ecdcec47-4688-464c-9dd5-eb26ece83d0b",
   "metadata": {},
   "outputs": [
    {
     "name": "stdout",
     "output_type": "stream",
     "text": [
      "Rahul is 43 and is a Sales Manager\n",
      "Rohit is 36 and is a freelancer\n",
      "Ravi is 34 and is a Software Developer\n",
      "Profession not known\n"
     ]
    }
   ],
   "source": [
    "# match objects\n",
    "from dataclasses import dataclass\n",
    "\n",
    "@dataclass\n",
    "class Person:\n",
    "    name: str\n",
    "    age: int\n",
    "    profession: str\n",
    "\n",
    "def match_data(d):\n",
    "    match d:\n",
    "        case Person(name, age, profession) if profession == 'Freelancer':\n",
    "            print(f\"{name} is {age} and is a freelancer\")\n",
    "        case Person(name, age, profession) if profession == 'Software Developer' :\n",
    "            print(f\"{name} is {age} and is a Software Developer\")\n",
    "        case Person(name, age, profession):\n",
    "            print(f\"{name} is {age} and is a {profession}\")\n",
    "        case _:\n",
    "            print(\"Profession not known\")\n",
    "\n",
    "match_data(Person(\"Rahul\", 43, \"Sales Manager\"))\n",
    "match_data(Person(\"Rohit\", 36, \"Freelancer\"))\n",
    "match_data(Person(\"Ravi\", 34, \"Software Developer\"))\n",
    "match_data({})"
   ]
  },
  {
   "cell_type": "markdown",
   "id": "256e8dc0-1596-4c4f-bce6-c549d369eea4",
   "metadata": {},
   "source": [
    "<h4>pass</h4>\n",
    "\n",
    " - Pass is used when a statement is required syntactically but the program requires no action"
   ]
  },
  {
   "cell_type": "code",
   "execution_count": 10,
   "id": "d585afc1-9281-403d-852b-a17fc6b98d48",
   "metadata": {},
   "outputs": [
    {
     "name": "stdout",
     "output_type": "stream",
     "text": [
      "6\n"
     ]
    }
   ],
   "source": [
    "def somefunc():\n",
    "    pass # can be used as placeholder for future logic\n",
    "\n",
    "# empty class\n",
    "class SomeClass:\n",
    "    pass\n",
    "\n",
    "# if condition\n",
    "num=random.randint(0,9)\n",
    "if (num ==1 or num == 2):\n",
    "    pass\n",
    "else:\n",
    "    print(num)"
   ]
  },
  {
   "cell_type": "markdown",
   "id": "901be713-1af2-49dd-a2d2-5e4d3818d0b5",
   "metadata": {},
   "source": [
    "<h3>Loops</h3>"
   ]
  },
  {
   "cell_type": "markdown",
   "id": "c3a7c55f-e49c-48ff-bc29-02347bffb873",
   "metadata": {},
   "source": [
    "<h4>for</h4>"
   ]
  },
  {
   "cell_type": "code",
   "execution_count": 11,
   "id": "5abc9072-771a-433c-9dbb-0adf1437fa84",
   "metadata": {},
   "outputs": [
    {
     "name": "stdout",
     "output_type": "stream",
     "text": [
      "RED\n",
      "GREEN\n",
      "YELLOW\n"
     ]
    }
   ],
   "source": [
    "# iterate over list\n",
    "colors = ['RED', 'GREEN', 'YELLOW']\n",
    "for color in colors:\n",
    "    print(color)"
   ]
  },
  {
   "cell_type": "code",
   "execution_count": 12,
   "id": "bef4c3b6-210b-43f3-b56c-50a16c258a1e",
   "metadata": {},
   "outputs": [
    {
     "name": "stdout",
     "output_type": "stream",
     "text": [
      "a for apple\n",
      "b for ball\n",
      "c for cat\n",
      "d for dog\n"
     ]
    }
   ],
   "source": [
    "# iterate over dictionary\n",
    "alphabets = {\"a\": \"apple\", \"b\": \"ball\", \"c\": \"cat\", \"d\": \"dog\"}\n",
    "for key,value in alphabets.items():\n",
    "    print(f\"{key} for {value}\")"
   ]
  },
  {
   "cell_type": "code",
   "execution_count": 13,
   "id": "93907ab9-3c88-4fe9-81f3-019741b3b6e1",
   "metadata": {},
   "outputs": [
    {
     "name": "stdout",
     "output_type": "stream",
     "text": [
      "0\n",
      "1\n",
      "2\n",
      "3\n",
      "4\n",
      "5\n",
      "6\n",
      "7\n",
      "8\n",
      "9\n"
     ]
    }
   ],
   "source": [
    "# iterating over range of values\n",
    "for i in range(10):\n",
    "    print(i)"
   ]
  },
  {
   "cell_type": "markdown",
   "id": "2aed0655-e835-4a57-91b7-fec7a882e6e7",
   "metadata": {},
   "source": [
    "<h4>while</h4>"
   ]
  },
  {
   "cell_type": "code",
   "execution_count": 14,
   "id": "a9e1f9a5-f7a0-47e2-91e8-8427cda3b2e0",
   "metadata": {},
   "outputs": [
    {
     "name": "stdout",
     "output_type": "stream",
     "text": [
      "2\n",
      "4\n",
      "6\n",
      "8\n",
      "10\n",
      "12\n",
      "14\n",
      "16\n",
      "18\n",
      "20\n"
     ]
    }
   ],
   "source": [
    "# print even numbers between 1-20\n",
    "num=1\n",
    "while(num<=20):\n",
    "    if num%2==0:\n",
    "        print(num)\n",
    "    num+=1"
   ]
  },
  {
   "cell_type": "markdown",
   "id": "dcb869a5-854b-46d9-9610-f06245d737c6",
   "metadata": {},
   "source": [
    "<h3>JUMP STATEMENTS</h3>"
   ]
  },
  {
   "cell_type": "markdown",
   "id": "476ca982-47d5-4acd-863f-ccae434324e2",
   "metadata": {},
   "source": [
    "<h4>break</h4>"
   ]
  },
  {
   "cell_type": "code",
   "execution_count": 15,
   "id": "963b92c1-52fb-4a96-bfde-1b8cf4c582a8",
   "metadata": {},
   "outputs": [
    {
     "name": "stdout",
     "output_type": "stream",
     "text": [
      "2\n",
      "4\n",
      "6\n",
      "8\n",
      "10\n",
      "12\n",
      "14\n",
      "16\n",
      "18\n",
      "20\n"
     ]
    }
   ],
   "source": [
    "num = 2\n",
    "while True:\n",
    "    if num > 20:\n",
    "        break\n",
    "    if num%2==0:\n",
    "        print(num)\n",
    "    num+=1"
   ]
  },
  {
   "cell_type": "markdown",
   "id": "57491532-b812-4805-80e3-7cea76d7052d",
   "metadata": {},
   "source": [
    "<h4>continue</h4>"
   ]
  },
  {
   "cell_type": "code",
   "execution_count": 18,
   "id": "d5978ad9-2e5f-4c22-97ee-cfc56b014969",
   "metadata": {},
   "outputs": [
    {
     "name": "stdout",
     "output_type": "stream",
     "text": [
      "2\n",
      "4\n",
      "6\n",
      "8\n",
      "10\n",
      "12\n",
      "14\n",
      "16\n",
      "18\n",
      "20\n"
     ]
    }
   ],
   "source": [
    "for i in range(2,21):\n",
    "    if i%2!=0:\n",
    "        continue\n",
    "    print(i)"
   ]
  },
  {
   "cell_type": "markdown",
   "id": "02900ec4-6caa-4977-bf34-529a4313b93f",
   "metadata": {},
   "source": [
    "<h3>ELSE CLAUSE IN LOOPS</h3>\n",
    "\n",
    " - In a for or while loop the break statement may be paired with an else clause\n",
    " - The else clause is executed if the loop finishes without executing the break\n",
    " - The else clause is not executed if the loop was terminated by a break\n",
    " - Other ways of terminating the loop like return or exception will also skip executing the else block"
   ]
  },
  {
   "cell_type": "code",
   "execution_count": 4,
   "id": "3b77ea36-d3cf-455c-a0a2-0ea9ab7ec7de",
   "metadata": {},
   "outputs": [
    {
     "name": "stdout",
     "output_type": "stream",
     "text": [
      "0\n",
      "1\n",
      "2\n",
      "3\n",
      "4\n",
      "Inside else block\n"
     ]
    }
   ],
   "source": [
    "for i in range(5):\n",
    "    if i>=5:\n",
    "        break\n",
    "    print(i)\n",
    "else:\n",
    "    print(\"Inside else block\")"
   ]
  },
  {
   "cell_type": "code",
   "execution_count": 8,
   "id": "f964c26d-4521-43cd-a1f7-60bad74de6cb",
   "metadata": {},
   "outputs": [
    {
     "name": "stdout",
     "output_type": "stream",
     "text": [
      "Inside else block\n"
     ]
    }
   ],
   "source": [
    "while i<5:\n",
    "    if i >=5:\n",
    "        break\n",
    "    i+=1\n",
    "else:\n",
    "    print(\"Inside else block\")"
   ]
  },
  {
   "cell_type": "code",
   "execution_count": 7,
   "id": "28224c68-dcde-4c15-98fe-c370530a95c8",
   "metadata": {},
   "outputs": [],
   "source": [
    "while i<6:\n",
    "    if i == 5:\n",
    "        break\n",
    "    i+=1\n",
    "else:\n",
    "    print(\"Inside else block\")"
   ]
  },
  {
   "cell_type": "code",
   "execution_count": null,
   "id": "e7d379ec-260b-45b6-b496-cc3405f7aaae",
   "metadata": {},
   "outputs": [],
   "source": []
  }
 ],
 "metadata": {
  "kernelspec": {
   "display_name": "Python 3 (ipykernel)",
   "language": "python",
   "name": "python3"
  },
  "language_info": {
   "codemirror_mode": {
    "name": "ipython",
    "version": 3
   },
   "file_extension": ".py",
   "mimetype": "text/x-python",
   "name": "python",
   "nbconvert_exporter": "python",
   "pygments_lexer": "ipython3",
   "version": "3.12.8"
  }
 },
 "nbformat": 4,
 "nbformat_minor": 5
}
