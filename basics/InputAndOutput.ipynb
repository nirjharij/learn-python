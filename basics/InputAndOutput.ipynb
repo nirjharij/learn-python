{
 "cells": [
  {
   "cell_type": "markdown",
   "id": "c82544c4-b877-4e71-a85b-c7b165e81f90",
   "metadata": {},
   "source": [
    "<h1>Output Formatting</h1>"
   ]
  },
  {
   "cell_type": "markdown",
   "id": "4ee45081-013e-4ab3-87b0-de44a61370f6",
   "metadata": {},
   "source": [
    "<h3>Formatted String Literals</h3>\n",
    "\n",
    " - also called f-strings\n",
    " - allows you to include python expressions in a string by prefixing the string with `f` or `F`\n",
    " - You can write the expression as `{expression}`"
   ]
  },
  {
   "cell_type": "code",
   "execution_count": 1,
   "id": "08860ad7-bbf1-44c6-95a4-81635af98cc2",
   "metadata": {},
   "outputs": [
    {
     "name": "stdout",
     "output_type": "stream",
     "text": [
      "The division of 6588/97 results in 67.92\n"
     ]
    }
   ],
   "source": [
    "a = 6588\n",
    "b = 97 \n",
    "print(f'The division of {a}/{b} results in {a/b:.2f}')\n",
    "# integer value given after : controls the numbers after decimal"
   ]
  },
  {
   "cell_type": "code",
   "execution_count": 2,
   "id": "5128d395-d01b-40d3-a414-ca11de4ebc6d",
   "metadata": {},
   "outputs": [
    {
     "name": "stdout",
     "output_type": "stream",
     "text": [
      "Raj        ==> 10\n",
      "Rahul      ==>  9\n",
      "Rohan      ==> 10\n",
      "Venkatesh  ==>  9\n"
     ]
    }
   ],
   "source": [
    "students_data = {'Raj': 10, 'Rahul': 9, 'Rohan': 10, 'Venkatesh': 9}\n",
    "for name, age in students_data.items():\n",
    "    print(f'{name:10} ==> {age:2}')"
   ]
  },
  {
   "cell_type": "markdown",
   "id": "a73cd36d-ceed-4b78-b34b-1c377a3591b5",
   "metadata": {},
   "source": [
    " - Other modifiers can be used to convert the value before it is formatted\n",
    "     - !a - ascii()\n",
    "     - !r - repr()\n",
    "     - !s - str()"
   ]
  },
  {
   "cell_type": "code",
   "execution_count": 3,
   "id": "c58a8d53-b0e4-4eb3-b999-58d650b6280c",
   "metadata": {},
   "outputs": [
    {
     "name": "stdout",
     "output_type": "stream",
     "text": [
      "Capital of 'India' is 'New Delhi'\n"
     ]
    }
   ],
   "source": [
    "country = 'India'\n",
    "capital = 'New Delhi'\n",
    "\n",
    "print(f'Capital of {country!r} is {capital!r}')"
   ]
  },
  {
   "cell_type": "markdown",
   "id": "c75c985b-d817-449f-9d61-5eeeb4ae3d77",
   "metadata": {},
   "source": [
    "<h3>String Format Method</h3> "
   ]
  },
  {
   "cell_type": "code",
   "execution_count": 4,
   "id": "75bf815a-82f9-4198-b876-87ceb1096aee",
   "metadata": {},
   "outputs": [
    {
     "name": "stdout",
     "output_type": "stream",
     "text": [
      "Capital of Greece is Athens\n"
     ]
    }
   ],
   "source": [
    "country = 'Greece'\n",
    "capital = 'Athens'\n",
    "print('Capital of {} is {}'.format(country, capital))"
   ]
  },
  {
   "cell_type": "code",
   "execution_count": 5,
   "id": "42643157-82ad-4069-9e48-1417f66e399d",
   "metadata": {},
   "outputs": [
    {
     "name": "stdout",
     "output_type": "stream",
     "text": [
      "Capital of Germany is Berlin\n"
     ]
    }
   ],
   "source": [
    "country = 'Germany'\n",
    "capital = 'Berlin'\n",
    "print('Capital of {0} is {1}'.format(country, capital))"
   ]
  },
  {
   "cell_type": "code",
   "execution_count": 6,
   "id": "a804133b-ac15-4f61-8970-ba237fe5fea8",
   "metadata": {},
   "outputs": [
    {
     "name": "stdout",
     "output_type": "stream",
     "text": [
      "Capital of Netherlands is Amsterdam\n"
     ]
    }
   ],
   "source": [
    "print('Capital of {country} is {capital}'.format(country='Netherlands', capital='Amsterdam'))"
   ]
  },
  {
   "cell_type": "code",
   "execution_count": 7,
   "id": "515e2b69-56a5-4870-96b5-b0fa44450818",
   "metadata": {},
   "outputs": [
    {
     "name": "stdout",
     "output_type": "stream",
     "text": [
      "Capital of South Africa is Cape Town and Capital of Switzerland is Bern\n"
     ]
    }
   ],
   "source": [
    "print('Capital of {0} is {1} and Capital of {country} is {capital}'.format('South Africa', 'Cape Town', country='Switzerland', capital='Bern'))"
   ]
  },
  {
   "cell_type": "code",
   "execution_count": 8,
   "id": "2f82071e-b6cb-4218-b80c-19f90b916d69",
   "metadata": {},
   "outputs": [
    {
     "name": "stdout",
     "output_type": "stream",
     "text": [
      "Capital of Egypt is Cairo\n"
     ]
    }
   ],
   "source": [
    "d = {'country': 'Egypt', 'capital': 'Cairo'}\n",
    "print('Capital of {country} is {capital}'.format(**d))"
   ]
  },
  {
   "cell_type": "markdown",
   "id": "4b15a0d8-1f01-4269-b3fe-b45de93819eb",
   "metadata": {},
   "source": [
    "<h3>Reading and Writing Files</h3>"
   ]
  },
  {
   "cell_type": "markdown",
   "id": "bef49fb4-5e09-4b0e-a7d9-f52268ededba",
   "metadata": {},
   "source": [
    " - `open(filename, mode, encoding=None)`\n",
    " - `open()` returns a file object"
   ]
  },
  {
   "cell_type": "code",
   "execution_count": 9,
   "id": "98041cce-d8d2-4e1f-8690-4d81fed029cb",
   "metadata": {},
   "outputs": [
    {
     "name": "stdout",
     "output_type": "stream",
     "text": [
      "The Pied Piper of Hamelin\n",
      "Beauty and the Beast\n",
      "Cinderella\n",
      "Little Red Riding Hood\n",
      "Pinocchio\n"
     ]
    }
   ],
   "source": [
    "# 'r' is for read mode\n",
    "# 'w' is for write mode (an existing file with the same name will be erased)\n",
    "# 'a' opens the file for appending\n",
    "# 'r+' opens the file for both reading and writing\n",
    "# appending a 'b' to the above modes opens the file in binary mode\n",
    "with open('PythonInputOutput.txt', 'r+') as f:\n",
    "    file_data = f.read()\n",
    "    print(file_data)"
   ]
  },
  {
   "cell_type": "code",
   "execution_count": 10,
   "id": "e3aa105e-7eae-4fef-b289-ff98d3c966a7",
   "metadata": {},
   "outputs": [
    {
     "name": "stdout",
     "output_type": "stream",
     "text": [
      "The Pied Piper of Hamelin\n",
      "\n",
      "Beauty and the Beast\n",
      "\n",
      "Cinderella\n",
      "\n",
      "Little Red Riding Hood\n",
      "\n",
      "Pinocchio\n"
     ]
    }
   ],
   "source": [
    "with open('PythonInputOutput.txt', 'r+') as f:\n",
    "    file_data = f.readline() # reads a single line from the file\n",
    "    while file_data:\n",
    "        print (file_data)\n",
    "        file_data = f.readline()"
   ]
  },
  {
   "cell_type": "code",
   "execution_count": 11,
   "id": "915169be-3da9-4999-b150-2649685aff42",
   "metadata": {},
   "outputs": [
    {
     "name": "stdout",
     "output_type": "stream",
     "text": [
      "The Pied Piper of Hamelin\n",
      "Beauty and the Beast\n",
      "Cinderella\n",
      "Little Red Riding Hood\n",
      "Pinocchio"
     ]
    }
   ],
   "source": [
    "with open('PythonInputOutput.txt', 'r+') as f:\n",
    "    for line in f:\n",
    "        print(line, end='')"
   ]
  },
  {
   "cell_type": "code",
   "execution_count": 12,
   "id": "08a460d3-1a2a-49a6-8ac8-66777233e549",
   "metadata": {},
   "outputs": [],
   "source": [
    "story_book = ('Sleeping Beauty', 10)\n",
    "with open('PythonInputOutput.txt', 'a') as f:\n",
    "    f.write('\\nSnow White and the Seven Dwarfs')\n",
    "    f.write('\\n' + str(story_book))"
   ]
  },
  {
   "cell_type": "code",
   "execution_count": 16,
   "id": "9321e3d4-d832-4799-bd05-3507c761e61c",
   "metadata": {},
   "outputs": [
    {
     "name": "stdout",
     "output_type": "stream",
     "text": [
      "0\n",
      "b'ied Piper of Hamelin\\n'\n"
     ]
    }
   ],
   "source": [
    "with open('PythonInputOutput.txt', 'rb+') as f:\n",
    "    print(f.tell()) # returns the file object’s current position\n",
    "    f.seek(5) # go to the 6th byte in the file\n",
    "    print(f.readline())"
   ]
  },
  {
   "cell_type": "code",
   "execution_count": null,
   "id": "49f8459b-1264-4bb4-812a-6b0df0bce6b0",
   "metadata": {},
   "outputs": [],
   "source": []
  }
 ],
 "metadata": {
  "kernelspec": {
   "display_name": "Python 3 (ipykernel)",
   "language": "python",
   "name": "python3"
  },
  "language_info": {
   "codemirror_mode": {
    "name": "ipython",
    "version": 3
   },
   "file_extension": ".py",
   "mimetype": "text/x-python",
   "name": "python",
   "nbconvert_exporter": "python",
   "pygments_lexer": "ipython3",
   "version": "3.12.8"
  }
 },
 "nbformat": 4,
 "nbformat_minor": 5
}
