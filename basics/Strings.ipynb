{
 "cells": [
  {
   "cell_type": "markdown",
   "id": "f559f220-8254-42d9-b5a5-c7de28899df3",
   "metadata": {},
   "source": [
    "<h1>Strings in Python</h1>\n",
    "\n",
    " - In Python you can manipulate characters, words, sentences etc.\n",
    " - Strings are immutable\n",
    " - Represented by type <u>str</u>\n",
    " - Strings can be enclosed in single or double quotes"
   ]
  },
  {
   "cell_type": "code",
   "execution_count": 1,
   "id": "ae8fc8ee-c3d0-41d4-9f96-1f46aaed88a3",
   "metadata": {},
   "outputs": [
    {
     "name": "stdout",
     "output_type": "stream",
     "text": [
      "The Pied Piper of Hamelin\n",
      "The Beauty and the Beast\n"
     ]
    }
   ],
   "source": [
    "sb = 'The Pied Piper of Hamelin'\n",
    "sb2 = \"The Beauty and the Beast\"\n",
    "\n",
    "print(sb)\n",
    "print(sb2)"
   ]
  },
  {
   "cell_type": "markdown",
   "id": "8e3676eb-98fe-4abd-9d70-4fdcb51a920a",
   "metadata": {},
   "source": [
    "<h3>String Manipulations</h3>"
   ]
  },
  {
   "cell_type": "code",
   "execution_count": 4,
   "id": "36559136-97e6-49f1-84c0-9e7503930efb",
   "metadata": {},
   "outputs": [
    {
     "name": "stdout",
     "output_type": "stream",
     "text": [
      "This is how we enclose 'quotes' in Python\n"
     ]
    }
   ],
   "source": [
    "#  To quote a quote, we need to “escape” it, by preceding it with \\\n",
    "s = 'This is how we enclose \\'quotes\\' in Python'\n",
    "print(s)"
   ]
  },
  {
   "cell_type": "code",
   "execution_count": 11,
   "id": "18e00c0f-8b10-4da9-9a91-b19e53fd5f45",
   "metadata": {},
   "outputs": [
    {
     "name": "stdout",
     "output_type": "stream",
     "text": [
      "C:\\mydir\n",
      "irjhari\n",
      "C:\\mydir\\nirjhari\n"
     ]
    }
   ],
   "source": [
    "# If you don’t want characters prefaced by \\ to be interpreted as special characters, \n",
    "# you can use raw strings by adding an r before the first quote'''\n",
    "\n",
    "some_dir = 'C:\\mydir\\nirjhari'\n",
    "print(some_dir)\n",
    "\n",
    "some_dir = r'C:\\mydir\\nirjhari'\n",
    "print(some_dir)"
   ]
  },
  {
   "cell_type": "code",
   "execution_count": 13,
   "id": "f860489f-809d-4959-9684-9a7d5bcb3078",
   "metadata": {},
   "outputs": [
    {
     "name": "stdout",
     "output_type": "stream",
     "text": [
      "This is first sentenceThis is second sentence\n"
     ]
    }
   ],
   "source": [
    "# Concating strings\n",
    "s1 = 'This is first sentence'\n",
    "s2 = 'This is second sentence'\n",
    "print (s1+s2)"
   ]
  },
  {
   "cell_type": "code",
   "execution_count": 18,
   "id": "0eb67123-cfc6-4f4f-b8d5-e34409731e8a",
   "metadata": {},
   "outputs": [],
   "source": [
    "sentence = 'Learning Python is fun'"
   ]
  },
  {
   "cell_type": "markdown",
   "id": "9835e2cb-968e-4b75-aad1-b7e4f4148f04",
   "metadata": {},
   "source": [
    "![](https://github.com/nirjharij/learn-python/blob/main/images/SentenceIndexing.png?raw=true)"
   ]
  },
  {
   "cell_type": "code",
   "execution_count": 20,
   "id": "3ff2061a-7861-4ffb-bcc1-e69916d25ebc",
   "metadata": {},
   "outputs": [
    {
     "name": "stdout",
     "output_type": "stream",
     "text": [
      "letter at index 0 is L\n",
      "letter at index 7 is g\n",
      "letter at index -1 is n\n",
      "letter at index -2 is u\n",
      "letter at index -6 is i\n"
     ]
    }
   ],
   "source": [
    "# Strings indexing\n",
    "print('letter at index 0 is', sentence[0])\n",
    "print('letter at index 7 is', sentence[7])\n",
    "print('letter at index -1 is', sentence[-1])\n",
    "print('letter at index -2 is', sentence[-2])\n",
    "print('letter at index -6 is', sentence[-6])"
   ]
  },
  {
   "cell_type": "code",
   "execution_count": 19,
   "id": "b48ba41e-50ac-47fb-ab3c-da81c0b0c2b2",
   "metadata": {},
   "outputs": [
    {
     "name": "stdout",
     "output_type": "stream",
     "text": [
      "Learning\n",
      "Python\n"
     ]
    }
   ],
   "source": [
    "# Slicing String\n",
    "# Start index is included while the end index is not included\n",
    "print(sentence[0:8])\n",
    "print(sentence[9:15])"
   ]
  },
  {
   "cell_type": "code",
   "execution_count": 21,
   "id": "a7070605-4c6b-44e5-9b60-8122b50d02a6",
   "metadata": {},
   "outputs": [
    {
     "name": "stdout",
     "output_type": "stream",
     "text": [
      "Learning Python is fun\n",
      "Python is fun\n",
      "fun\n",
      "Learning\n"
     ]
    }
   ],
   "source": [
    "print(sentence[0:])\n",
    "print(sentence[9:])\n",
    "print(sentence[-3:])\n",
    "print(sentence[:8])"
   ]
  },
  {
   "cell_type": "code",
   "execution_count": 23,
   "id": "a94b89c9-beda-4ec6-b760-30d1f20db540",
   "metadata": {},
   "outputs": [
    {
     "name": "stdout",
     "output_type": "stream",
     "text": [
      "22\n"
     ]
    }
   ],
   "source": [
    "# Length of a string\n",
    "print(len(sentence))"
   ]
  },
  {
   "cell_type": "markdown",
   "id": "d0894164-cb59-45a1-9bd6-deca7986b80e",
   "metadata": {},
   "source": [
    "<h3>String Methods</h3>"
   ]
  },
  {
   "cell_type": "code",
   "execution_count": 28,
   "id": "cafcf061-65df-48f3-8d05-1f3df43d6b6d",
   "metadata": {},
   "outputs": [
    {
     "data": {
      "text/plain": [
       "True"
      ]
     },
     "execution_count": 28,
     "metadata": {},
     "output_type": "execute_result"
    }
   ],
   "source": [
    "sentence.endswith('fun')"
   ]
  },
  {
   "cell_type": "code",
   "execution_count": 26,
   "id": "598642e0-6444-4daa-9e4c-4e65a2ea5ac3",
   "metadata": {},
   "outputs": [
    {
     "data": {
      "text/plain": [
       "True"
      ]
     },
     "execution_count": 26,
     "metadata": {},
     "output_type": "execute_result"
    }
   ],
   "source": [
    "sentence.startswith('Learn')"
   ]
  },
  {
   "cell_type": "code",
   "execution_count": 29,
   "id": "858545de-65e0-4ce9-ad8b-2bd6ef5b31de",
   "metadata": {},
   "outputs": [
    {
     "data": {
      "text/plain": [
       "'Learning python is fun'"
      ]
     },
     "execution_count": 29,
     "metadata": {},
     "output_type": "execute_result"
    }
   ],
   "source": [
    "sentence.capitalize()"
   ]
  },
  {
   "cell_type": "code",
   "execution_count": 39,
   "id": "b9e938fa-21d8-4214-9e29-75ebe49ab47e",
   "metadata": {},
   "outputs": [
    {
     "data": {
      "text/plain": [
       "'Learning Python is fun in year 2024'"
      ]
     },
     "execution_count": 39,
     "metadata": {},
     "output_type": "execute_result"
    }
   ],
   "source": [
    "# String formatting\n",
    "current_year = 2024\n",
    "sentence + ' in year {0}'.format(current_year)"
   ]
  },
  {
   "cell_type": "code",
   "execution_count": 47,
   "id": "bcd7897d-4bad-472c-8a0d-691488a9d5f7",
   "metadata": {},
   "outputs": [
    {
     "name": "stdout",
     "output_type": "stream",
     "text": [
      "Learning Python is fun in year 2024\n",
      "Learning Python in fun in year 2024\n",
      "My name is Nirjhari and I work at Amazon\n"
     ]
    }
   ],
   "source": [
    "# String formatting in print function\n",
    "print(sentence + \" in year %d\" % current_year)\n",
    "print('Learning %s in fun in year %d' %('Python', current_year))\n",
    "print('My name is %(name)s and I work at %(company)s' %{'name':'Nirjhari', 'company':'Amazon'})"
   ]
  },
  {
   "cell_type": "code",
   "execution_count": 48,
   "id": "f3246c1c-3c99-45aa-99dd-07e3ee530b7f",
   "metadata": {},
   "outputs": [
    {
     "data": {
      "text/plain": [
       "'Learning Python is fun'"
      ]
     },
     "execution_count": 48,
     "metadata": {},
     "output_type": "execute_result"
    }
   ],
   "source": [
    "str_list = ['Learning', 'Python', 'is', 'fun']\n",
    "separator = ' '\n",
    "separator.join(str_list)"
   ]
  }
 ],
 "metadata": {
  "kernelspec": {
   "display_name": "Python 3 (ipykernel)",
   "language": "python",
   "name": "python3"
  },
  "language_info": {
   "codemirror_mode": {
    "name": "ipython",
    "version": 3
   },
   "file_extension": ".py",
   "mimetype": "text/x-python",
   "name": "python",
   "nbconvert_exporter": "python",
   "pygments_lexer": "ipython3",
   "version": "3.9.6"
  }
 },
 "nbformat": 4,
 "nbformat_minor": 5
}
