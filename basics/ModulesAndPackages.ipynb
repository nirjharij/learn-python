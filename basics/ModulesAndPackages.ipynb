{
 "cells": [
  {
   "cell_type": "markdown",
   "id": "148583fc-580a-43a1-a819-ed1f500a17e6",
   "metadata": {},
   "source": [
    "<h1>Modules in Python</h1>\n",
    "\n",
    " - A module is a file containing python definitions and statements"
   ]
  },
  {
   "cell_type": "markdown",
   "id": "f9019401-b2da-41b3-8c2a-b2919d101fb9",
   "metadata": {},
   "source": [
    " - The file name is the module name\n",
    " - You can access module name using ``` __name__ ```"
   ]
  },
  {
   "cell_type": "code",
   "execution_count": 1,
   "id": "bc53df63-634c-4231-8963-08279158cf89",
   "metadata": {},
   "outputs": [
    {
     "name": "stdout",
     "output_type": "stream",
     "text": [
      "Modules Demo Initialised\n",
      "modules_demo\n"
     ]
    }
   ],
   "source": [
    "import modules_demo\n",
    "# The statements in the module are executed the first time module is imported \n",
    "print(modules_demo.__name__)"
   ]
  },
  {
   "cell_type": "code",
   "execution_count": 2,
   "id": "3f387ae5-c09e-4af2-8048-5de3ba1693c5",
   "metadata": {},
   "outputs": [
    {
     "data": {
      "text/plain": [
       "720"
      ]
     },
     "execution_count": 2,
     "metadata": {},
     "output_type": "execute_result"
    }
   ],
   "source": [
    "# importing just the module does not import the functions defined in the file\n",
    "# it only adds the module name to the current namespace\n",
    "modules_demo.factorial(6)"
   ]
  },
  {
   "cell_type": "markdown",
   "id": "b5766ef1-9b63-45ef-8b2b-ff671d8d6ffb",
   "metadata": {},
   "source": [
    " - Definitions from a module can be imported into other modules"
   ]
  },
  {
   "cell_type": "code",
   "execution_count": 3,
   "id": "1c692e84-a3e3-42fb-9743-e27e80b60074",
   "metadata": {},
   "outputs": [
    {
     "data": {
      "text/plain": [
       "120"
      ]
     },
     "execution_count": 3,
     "metadata": {},
     "output_type": "execute_result"
    }
   ],
   "source": [
    "from modules_demo import factorial\n",
    "factorial(5)"
   ]
  },
  {
   "cell_type": "code",
   "execution_count": 4,
   "id": "e576d7d8-1259-4249-9c15-2dd6b4cb749f",
   "metadata": {},
   "outputs": [],
   "source": [
    "# not recommended since it causes poorly readable code\n",
    "from modules_demo import *"
   ]
  },
  {
   "cell_type": "code",
   "execution_count": 5,
   "id": "d4f08215-2269-4b04-8367-7217de5d41fc",
   "metadata": {},
   "outputs": [
    {
     "data": {
      "text/plain": [
       "5040"
      ]
     },
     "execution_count": 5,
     "metadata": {},
     "output_type": "execute_result"
    }
   ],
   "source": [
    "from modules_demo import factorial as fact\n",
    "fact(7)"
   ]
  },
  {
   "cell_type": "code",
   "execution_count": 6,
   "id": "267b0c8f-7a32-449e-b59c-0f2393329b2e",
   "metadata": {},
   "outputs": [
    {
     "name": "stdout",
     "output_type": "stream",
     "text": [
      "Modules Demo Initialised\n",
      "24\n"
     ]
    }
   ],
   "source": [
    "# Executing modules as script\n",
    "%run modules_demo.py 4"
   ]
  },
  {
   "cell_type": "markdown",
   "id": "68c64110-796c-4f2e-99cb-e9c4244a60d0",
   "metadata": {},
   "source": [
    " - Each module has its own private namespace"
   ]
  },
  {
   "cell_type": "code",
   "execution_count": 7,
   "id": "b251fd31-b5b4-4f52-ae6e-2588f016d381",
   "metadata": {},
   "outputs": [
    {
     "name": "stdout",
     "output_type": "stream",
     "text": [
      "1\n",
      "2\n"
     ]
    }
   ],
   "source": [
    "from package_demo import module1, module2\n",
    "print(module1.MOD_GLOBAL)\n",
    "print(module2.MOD_GLOBAL)"
   ]
  },
  {
   "cell_type": "markdown",
   "id": "fade7cce-35ee-4b5c-94f8-3778bd4b237a",
   "metadata": {},
   "source": [
    "<h2>Packages in Python</h2>\n",
    "\n",
    " - Packages are a way of structuring your modules\n",
    " - For eg A.B module means a module named B exists in a package A\n",
    " - There should be a ```__init__.py``` file present in the directory to make python understand that as a package\n",
    " - ```__init__.py``` file can be empty or can contain initialization code for the package"
   ]
  },
  {
   "cell_type": "code",
   "execution_count": 8,
   "id": "b205a094-5e64-454a-9e78-c99165e521c1",
   "metadata": {},
   "outputs": [
    {
     "name": "stdout",
     "output_type": "stream",
     "text": [
      "Inside module 1\n"
     ]
    }
   ],
   "source": [
    "module1.mod1_demo()"
   ]
  },
  {
   "cell_type": "code",
   "execution_count": 9,
   "id": "c9035dde-754b-4d27-9a32-83cec7f897fa",
   "metadata": {},
   "outputs": [
    {
     "name": "stdout",
     "output_type": "stream",
     "text": [
      "Inside module 2\n"
     ]
    }
   ],
   "source": [
    "module2.mod2_demo()"
   ]
  },
  {
   "cell_type": "code",
   "execution_count": 10,
   "id": "7a643f6e-e477-45a6-ba4c-dba1e6ffba2e",
   "metadata": {},
   "outputs": [
    {
     "name": "stdout",
     "output_type": "stream",
     "text": [
      "Inside module 1\n",
      "inside submodule 1\n"
     ]
    }
   ],
   "source": [
    "import package_demo.subpackage.submodule1 as sm1\n",
    "sm1.submodule_demo()"
   ]
  },
  {
   "cell_type": "code",
   "execution_count": 11,
   "id": "835951a7-f060-4a92-95c3-29efc87bd384",
   "metadata": {},
   "outputs": [
    {
     "name": "stdout",
     "output_type": "stream",
     "text": [
      "inside submodule 2\n"
     ]
    }
   ],
   "source": [
    "from package_demo.subpackage.submodule2 import submodule_demo\n",
    "submodule_demo()"
   ]
  },
  {
   "cell_type": "markdown",
   "id": "47abd08e-8526-4fc2-bf38-f3deccb0b9c0",
   "metadata": {},
   "source": [
    " - When using `from package import item` the item can be a subpackage or module or any name defined in a package like function or variable\n",
    " - When using `import package.subpackage.module` each item except the last one must be a package, the last item can be a module or a package but can't be a class or function or variable defined in previous item"
   ]
  },
  {
   "cell_type": "code",
   "execution_count": 12,
   "id": "e09897d3-f723-42e5-a172-47d85f775d71",
   "metadata": {},
   "outputs": [
    {
     "name": "stdout",
     "output_type": "stream",
     "text": [
      "inside submodule 1\n",
      "inside submodule 2\n"
     ]
    },
    {
     "ename": "NameError",
     "evalue": "name 'submodule3' is not defined",
     "output_type": "error",
     "traceback": [
      "\u001b[0;31m---------------------------------------------------------------------------\u001b[0m",
      "\u001b[0;31mNameError\u001b[0m                                 Traceback (most recent call last)",
      "Cell \u001b[0;32mIn[12], line 5\u001b[0m\n\u001b[1;32m      3\u001b[0m submodule1\u001b[38;5;241m.\u001b[39msubmodule_demo()\n\u001b[1;32m      4\u001b[0m submodule2\u001b[38;5;241m.\u001b[39msubmodule_demo()\n\u001b[0;32m----> 5\u001b[0m \u001b[43msubmodule3\u001b[49m\u001b[38;5;241m.\u001b[39msubmodule_demo()\n",
      "\u001b[0;31mNameError\u001b[0m: name 'submodule3' is not defined"
     ]
    }
   ],
   "source": [
    "from package_demo.subpackage import *\n",
    "\n",
    "submodule1.submodule_demo()\n",
    "submodule2.submodule_demo()\n",
    "submodule3.submodule_demo()"
   ]
  },
  {
   "cell_type": "markdown",
   "id": "e7774105-e3ce-4cd2-afa3-8dd90b4da50a",
   "metadata": {},
   "source": [
    "<h3>Module Search Path</h3>\n",
    "\n",
    "    1. Built-in modules\n",
    "    2. File with module name in the list of directories given by variable sys.path\n",
    "\n",
    "sys.path initialization\n",
    "\n",
    "    1. Directory containing the input script\n",
    "    2. PYTHONPATH same as PATH variable in shell\n",
    "    3. site-packages\n",
    "\n",
    "The directory containing the script being run is placed at the beginning of the search path, ahead of the standard library path."
   ]
  },
  {
   "cell_type": "markdown",
   "id": "24eb36d1-ddfb-48d8-a12c-12df699b0116",
   "metadata": {},
   "source": [
    "<h4> Compiled Python Files </h4>\n",
    "\n",
    "  - Python keeps the cached version of each module in a ```__pycache__``` directory\n",
    "  - This speeds up loading the modules, but this not makes the execution of program faster\n",
    "  - Python checks if the source code modification date is later than the compiled version date to compile the file again\n",
    "  - The compiled version is platform independant\n",
    "  - You can use command ```python -m compileall``` to compile all the files"
   ]
  },
  {
   "cell_type": "code",
   "execution_count": null,
   "id": "53694068-8f41-4c2e-b007-f9ba917fc04c",
   "metadata": {},
   "outputs": [],
   "source": []
  }
 ],
 "metadata": {
  "kernelspec": {
   "display_name": "Python 3 (ipykernel)",
   "language": "python",
   "name": "python3"
  },
  "language_info": {
   "codemirror_mode": {
    "name": "ipython",
    "version": 3
   },
   "file_extension": ".py",
   "mimetype": "text/x-python",
   "name": "python",
   "nbconvert_exporter": "python",
   "pygments_lexer": "ipython3",
   "version": "3.12.8"
  }
 },
 "nbformat": 4,
 "nbformat_minor": 5
}
