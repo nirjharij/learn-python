{
 "cells": [
  {
   "cell_type": "markdown",
   "id": "25f7f80f-f18c-4ca6-8e77-b47eea3e337d",
   "metadata": {},
   "source": [
    "<h1>Operators in Python</h1>\n",
    "\n",
    " - **Operators** are special symbols which are used for performing some operation on operands\n",
    " - **Operands** are the values or the variables on which the operation is performed\n",
    "\n",
    " **Example**\n",
    "    \n",
    "    c =     a          +         b\n",
    "        (operand) (operator) (operand)"
   ]
  },
  {
   "cell_type": "markdown",
   "id": "2d3a07c8-8f91-4905-9639-4becda4163f2",
   "metadata": {},
   "source": [
    "<h3> Arithmetic Operators </h3>\n",
    "\n",
    " - Addition (+)\n",
    " - Subtraction (-)\n",
    " - Multiplication (*)\n",
    " - Division (/)\n",
    " - Modulus (%)\n",
    " - Power (**)"
   ]
  },
  {
   "cell_type": "code",
   "execution_count": 29,
   "id": "0a4a8696-cdf4-455d-acb4-0e9055538d41",
   "metadata": {},
   "outputs": [
    {
     "name": "stdout",
     "output_type": "stream",
     "text": [
      "40\n",
      "106.7\n"
     ]
    }
   ],
   "source": [
    "# Addition\n",
    "print(13+27)\n",
    "print(15.8+90.9)"
   ]
  },
  {
   "cell_type": "code",
   "execution_count": 30,
   "id": "1d632bac-3755-45d7-8842-3570cbbf43f9",
   "metadata": {},
   "outputs": [
    {
     "name": "stdout",
     "output_type": "stream",
     "text": [
      "38\n",
      "-2.0700000000000003\n"
     ]
    }
   ],
   "source": [
    "# Subtraction\n",
    "print(43-5)\n",
    "print(12.6-14.67)"
   ]
  },
  {
   "cell_type": "code",
   "execution_count": 31,
   "id": "d9abe106-adb7-41bf-9e8f-8952f9134291",
   "metadata": {},
   "outputs": [
    {
     "name": "stdout",
     "output_type": "stream",
     "text": [
      "2345\n",
      "35.1\n"
     ]
    }
   ],
   "source": [
    "# Multiplication\n",
    "print(35*67)\n",
    "print(4.5*7.8)"
   ]
  },
  {
   "cell_type": "code",
   "execution_count": 32,
   "id": "f594dd2e-1740-43e1-b06f-3e83559fc48d",
   "metadata": {},
   "outputs": [
    {
     "name": "stdout",
     "output_type": "stream",
     "text": [
      "8.0\n",
      "7.25268817204301\n"
     ]
    }
   ],
   "source": [
    "# Division returns float\n",
    "print(32/4)\n",
    "print(67.45/9.3)"
   ]
  },
  {
   "cell_type": "code",
   "execution_count": 33,
   "id": "b448421b-0375-4c04-921a-a0188f6cbe3d",
   "metadata": {},
   "outputs": [
    {
     "name": "stdout",
     "output_type": "stream",
     "text": [
      "8\n",
      "7.0\n"
     ]
    }
   ],
   "source": [
    "# Floor division returns int\n",
    "print(44//5)\n",
    "print(33.2//4.5)"
   ]
  },
  {
   "cell_type": "code",
   "execution_count": 34,
   "id": "15be660c-f8e2-4af5-a03d-9c9a443401d6",
   "metadata": {},
   "outputs": [
    {
     "name": "stdout",
     "output_type": "stream",
     "text": [
      "3\n",
      "12.399999999999999\n"
     ]
    }
   ],
   "source": [
    "# Modulus\n",
    "print(12%9)\n",
    "print(33.4%21)"
   ]
  },
  {
   "cell_type": "code",
   "execution_count": 35,
   "id": "49c51800-b923-45e8-bdb9-a4855cfbe47c",
   "metadata": {},
   "outputs": [
    {
     "name": "stdout",
     "output_type": "stream",
     "text": [
      "25\n",
      "128\n"
     ]
    }
   ],
   "source": [
    "# Power\n",
    "print(5**2)\n",
    "print(2**7)"
   ]
  },
  {
   "cell_type": "markdown",
   "id": "8181dfda-8d55-4246-aaca-43e477a9f1d1",
   "metadata": {},
   "source": [
    "<h3>Assignment Operators</h3>\n",
    "\n",
    " - Simple assignment operators (=)\n",
    " - Compound assignment operators (+=, -=, /=, *= etc.)"
   ]
  },
  {
   "cell_type": "code",
   "execution_count": 10,
   "id": "fdb63a49-857d-4d17-9c90-01acca243b3b",
   "metadata": {},
   "outputs": [
    {
     "name": "stdout",
     "output_type": "stream",
     "text": [
      "x = 15\n",
      "y = 5\n"
     ]
    }
   ],
   "source": [
    "x = 10\n",
    "x += 5 # Equivalent to x = x + 5\n",
    "print(\"x =\", x)\n",
    "y = 7\n",
    "y -= 2\n",
    "print(\"y =\", y)"
   ]
  },
  {
   "cell_type": "markdown",
   "id": "c8242ae7-2f36-4440-947b-cb10e455ae0f",
   "metadata": {},
   "source": [
    "<h3>Comparison Operators</h3>\n",
    "\n",
    " - Equal to (==)\n",
    " - Not equal to (!=)\n",
    " - Less than (<)\n",
    " - Greater than (>)\n",
    " - Less than equal to (<=)\n",
    " - Greater than equal to (>=)"
   ]
  },
  {
   "cell_type": "code",
   "execution_count": 21,
   "id": "da53406c-6eb9-419f-8b8a-95f7f62792aa",
   "metadata": {},
   "outputs": [
    {
     "name": "stdout",
     "output_type": "stream",
     "text": [
      "7==7 is True\n",
      "8!=4 is True\n",
      "9>2 is True\n",
      "4>7 is False\n",
      "4<7 is True\n",
      "3>=1 is True\n",
      "3<=9 is True\n",
      "3>=9 is False\n",
      "2<=2 is True\n"
     ]
    }
   ],
   "source": [
    "print(\"7==7 is\", 7==7)\n",
    "print(\"8!=4 is\", 8!=4)\n",
    "print(\"9>2 is\", 9>2)\n",
    "print(\"4>7 is\", 4>7)\n",
    "print(\"4<7 is\", 4<7)\n",
    "print(\"3>=1 is\", 3>=1)\n",
    "print(\"3<=9 is\", 3<=9)\n",
    "print(\"3>=9 is\", 3>=9)\n",
    "print(\"2<=2 is\", 2<=2)"
   ]
  },
  {
   "cell_type": "code",
   "execution_count": 6,
   "id": "ba5b28e8-aeaf-412a-bed6-83cd1bf2b572",
   "metadata": {},
   "outputs": [
    {
     "name": "stdout",
     "output_type": "stream",
     "text": [
      "Perform some action\n"
     ]
    }
   ],
   "source": [
    "a = 5\n",
    "b = 5\n",
    "if(a == b):\n",
    "    print (\"Perform some action\")"
   ]
  },
  {
   "cell_type": "markdown",
   "id": "ebf581b8-8d28-449f-bd52-1f11b730a573",
   "metadata": {},
   "source": [
    "<h3>Logical Operators</h3>\n",
    "\n",
    " - AND (and)\n",
    " - OR (or)\n",
    " - NOT (not)"
   ]
  },
  {
   "cell_type": "code",
   "execution_count": 20,
   "id": "f3f6bc45-8cfa-422d-8d93-ce6014da7757",
   "metadata": {},
   "outputs": [
    {
     "name": "stdout",
     "output_type": "stream",
     "text": [
      "True and True is True\n",
      "False or True is True\n",
      "not True is False\n",
      "7==7 and 4>7 is False\n"
     ]
    }
   ],
   "source": [
    "print(\"True and True is\", True and True)\n",
    "print(\"False or True is\", False or True)\n",
    "print(\"not True is\", not True)\n",
    "print(\"7==7 and 4>7 is\", 7==7 and 4>7)"
   ]
  },
  {
   "cell_type": "markdown",
   "id": "8f642919-8f15-4f75-9147-1a13168f16a3",
   "metadata": {},
   "source": [
    "<h3>Bitwise Operators</h3>\n",
    "\n",
    " - Bitwise AND (&)\n",
    " - Bitwise OR (|)\n",
    " - Bitwise NOT (~)\n",
    " - Bitwise XOR (^)\n",
    " - Left Shift (<<)\n",
    " - Right Shift (>>)"
   ]
  },
  {
   "cell_type": "code",
   "execution_count": 18,
   "id": "14907ad6-fd4f-47cb-b25d-b382361c0172",
   "metadata": {},
   "outputs": [
    {
     "name": "stdout",
     "output_type": "stream",
     "text": [
      "Bitwise AND 10 & 3 is 2\n",
      "Bitwise OR 10 | 3 is 11\n",
      "Bitwise NOT ~7 is -8\n",
      "Bitwise XOR 3^5 is 6\n",
      "Left Shift 3<<2 is 12\n",
      "Right Shift 12>> is 1\n"
     ]
    }
   ],
   "source": [
    "print(\"Bitwise AND 10 & 3 is\", 10 & 3)\n",
    "'''\n",
    "    1010\n",
    "    0011\n",
    "    ----\n",
    "    0010 = 2 in Decimal\n",
    "'''\n",
    "print(\"Bitwise OR 10 | 3 is\", 10 | 3) \n",
    "'''\n",
    "    1010\n",
    "    0011\n",
    "    ----\n",
    "    1011 = 12 in Decimal\n",
    "'''\n",
    "print(\"Bitwise NOT ~7 is\", ~7) # calculated as ~x = -x-1\n",
    "print(\"Bitwise XOR 3^5 is\", 3^5)\n",
    "'''\n",
    "    0011\n",
    "    0101\n",
    "    ----\n",
    "    0110 = 6 in Decimal\n",
    "'''\n",
    "print(\"Left Shift 3<<2 is\", 3<<2) # 3 in binary 0011, Left shift by 2 -> 1100\n",
    "print(\"Right Shift 12>> is\", 12>>3) # 7 in binary 1100, Right shift by 3 -> 0001"
   ]
  },
  {
   "cell_type": "markdown",
   "id": "37f192fc-895f-43eb-a8f8-3bf0716e8c56",
   "metadata": {},
   "source": [
    "<h3>Membership Operators</h3>\n",
    "\n",
    " - in\n",
    " - not in\n",
    " - is\n",
    " - is not"
   ]
  },
  {
   "cell_type": "code",
   "execution_count": 1,
   "id": "780ca012-d81e-4a19-9cd8-c8f59b40bd15",
   "metadata": {},
   "outputs": [
    {
     "name": "stdout",
     "output_type": "stream",
     "text": [
      "x is y -> False\n",
      "x is z -> True\n",
      "x is not y -> True\n",
      "x is not z -> False\n",
      "a in ['a', 'b', 'c'] -> True\n",
      "c not in ['a', 'b', 'c'] -> False\n"
     ]
    }
   ],
   "source": [
    "x = 5\n",
    "y = 10\n",
    "z = 5\n",
    "print(\"x is y ->\", x is y)\n",
    "print(\"x is z ->\", x is z)\n",
    "print(\"x is not y ->\", x is not y)\n",
    "print(\"x is not z ->\", x is not z)\n",
    "print(\"a in ['a', 'b', 'c'] ->\", 'a' in ['a', 'b', 'c'])\n",
    "print(\"c not in ['a', 'b', 'c'] ->\", 'c' not in ['a', 'b', 'c'])"
   ]
  },
  {
   "cell_type": "markdown",
   "id": "e24873bb-e97d-44b0-a1f4-b0d6476e394a",
   "metadata": {},
   "source": [
    "<h3>Operators Precendence</h3>\n",
    "\n",
    "\n",
    "![](https://miro.medium.com/v2/resize:fit:1326/format:webp/1*WzSiL_jo4yXwBf_nrt5M3A.png)"
   ]
  },
  {
   "cell_type": "code",
   "execution_count": null,
   "id": "b8ac1e58-8960-4f26-8f5f-e138754bbf09",
   "metadata": {},
   "outputs": [],
   "source": []
  }
 ],
 "metadata": {
  "kernelspec": {
   "display_name": "Python 3 (ipykernel)",
   "language": "python",
   "name": "python3"
  },
  "language_info": {
   "codemirror_mode": {
    "name": "ipython",
    "version": 3
   },
   "file_extension": ".py",
   "mimetype": "text/x-python",
   "name": "python",
   "nbconvert_exporter": "python",
   "pygments_lexer": "ipython3",
   "version": "3.9.6"
  }
 },
 "nbformat": 4,
 "nbformat_minor": 5
}
