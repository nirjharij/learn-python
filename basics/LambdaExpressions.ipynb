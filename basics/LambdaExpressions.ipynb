{
 "cells": [
  {
   "cell_type": "markdown",
   "id": "fe282a96-d885-4e98-baa6-04607ec414bc",
   "metadata": {},
   "source": [
    "<h1> Lambda Expressions </h1>\n",
    "\n",
    " - Lambda functions are inline anonymous functions, whose purpose is bypassing function stack allocation during invocation.\n",
    "\n",
    "    Syntax\n",
    "   ```\n",
    "       lambda args: expr\n",
    "   ```\n",
    " \n",
    " - A lambda function works just like a function\n",
    " - Can be used for passing the function as argument to another function\n",
    " - Can be used for returning a function"
   ]
  },
  {
   "cell_type": "code",
   "execution_count": 4,
   "id": "0b7589fb-d722-4d8a-abb6-1ce81622b078",
   "metadata": {},
   "outputs": [
    {
     "name": "stdout",
     "output_type": "stream",
     "text": [
      "4\n",
      "16\n"
     ]
    }
   ],
   "source": [
    "# The lambda expression yields a function object that can be used like any other function. \n",
    "f = lambda x: x * x\n",
    "print(f(2))\n",
    "print(f(4))"
   ]
  },
  {
   "cell_type": "code",
   "execution_count": 9,
   "id": "8a7c36a2-965a-48e2-b00d-228370599b97",
   "metadata": {},
   "outputs": [
    {
     "name": "stdout",
     "output_type": "stream",
     "text": [
      "Hello Rahul\n",
      "Hello Rohan\n",
      "Good Morning Rahul\n",
      "Good Morning Rohan\n"
     ]
    }
   ],
   "source": [
    "def greet(greeting):\n",
    "    return lambda n: print(greeting + ' ' + n)\n",
    "\n",
    "f = greet(\"Hello\")\n",
    "f(\"Rahul\")\n",
    "f(\"Rohan\")\n",
    "\n",
    "f = greet(\"Good Morning\")\n",
    "f(\"Rahul\")\n",
    "f(\"Rohan\")"
   ]
  },
  {
   "cell_type": "markdown",
   "id": "6bd19b56-51fd-41ea-b1d1-00842894c38f",
   "metadata": {},
   "source": [
    "<h4> FILTER </h4>"
   ]
  },
  {
   "cell_type": "code",
   "execution_count": 16,
   "id": "f4e8fa7e-d51c-4066-a2f8-032c074a856b",
   "metadata": {},
   "outputs": [
    {
     "name": "stdout",
     "output_type": "stream",
     "text": [
      "['aarav', 'aarna', 'ansh', 'ahana']\n"
     ]
    }
   ],
   "source": [
    "# Lambda example using filter\n",
    "# filter(function, iterable)\n",
    "# Applies the function on the iterable to return the values which are true for the function\n",
    "names = ['aarav', 'vivaan', 'reyansh', 'aarna', 'ansh', 'ahana', 'dhriti']\n",
    "print(list(filter(lambda x: x.startswith('a'), names)))"
   ]
  },
  {
   "cell_type": "markdown",
   "id": "8dfe9f75-6e5b-4c19-b58b-26e8fa7ed9da",
   "metadata": {},
   "source": [
    "<h4> MAP </h4>"
   ]
  },
  {
   "cell_type": "code",
   "execution_count": 22,
   "id": "e746bed3-ee8c-4ccd-be64-3526631d3957",
   "metadata": {},
   "outputs": [
    {
     "name": "stdout",
     "output_type": "stream",
     "text": [
      "['Aarav', 'Vivaan', 'Reyansh', 'Aarna', 'Ansh', 'Ahana', 'Dhriti']\n"
     ]
    }
   ],
   "source": [
    "# Lambda example using Map\n",
    "# map(function, iterable)\n",
    "# Applies the function for each member in the iterable\n",
    "print(list(map(lambda x: x.capitalize(), names)))"
   ]
  },
  {
   "cell_type": "markdown",
   "id": "03b8f67b-7764-4214-9045-3c7954cb6216",
   "metadata": {},
   "source": [
    "<h4> SORTED </h4>\n",
    "\n",
    " - Returns a new sorted list from the items in the iterable\n",
    "```\n",
    "sorted(iterable, key=None, reverse=False)\n",
    "```"
   ]
  },
  {
   "cell_type": "code",
   "execution_count": 29,
   "id": "a721fbdd-f2f9-4585-a5c2-f0a3050aac65",
   "metadata": {},
   "outputs": [
    {
     "data": {
      "text/plain": [
       "[('Aarna', 99),\n",
       " ('Ahana', 97),\n",
       " ('Aarav', 90),\n",
       " ('Vivaan', 88),\n",
       " ('Reyansh', 87),\n",
       " ('Ansh', 86),\n",
       " ('Dhriti', 82)]"
      ]
     },
     "execution_count": 29,
     "metadata": {},
     "output_type": "execute_result"
    }
   ],
   "source": [
    "result = {'Aarav': 90, 'Vivaan': 88, 'Reyansh': 87, 'Aarna': 99, 'Ansh': 86, 'Ahana': 97, 'Dhriti': 82}\n",
    "sorted(result.items(), key=lambda x: x[1], reverse=True)"
   ]
  },
  {
   "cell_type": "markdown",
   "id": "94922870-8de1-4343-87f8-914dca0933f9",
   "metadata": {},
   "source": [
    "<b>Other built-in functions in Python to explore \n",
    "https://docs.python.org/3/library/functions.html"
   ]
  },
  {
   "cell_type": "markdown",
   "id": "db3cb57f-572a-4b32-bd2c-b6167aec2e28",
   "metadata": {},
   "source": [
    "<h3>Functools</h3>\n",
    "\n",
    "  - Functools module is for higher order function - the functions that act on or return other functions\n"
   ]
  },
  {
   "cell_type": "markdown",
   "id": "e82f1a9c-a3bd-47ba-b7c4-71a7819ed976",
   "metadata": {},
   "source": [
    "<h4>REDUCE</h4>\n",
    "\n",
    "```functools.reduce(function, iterable, [initial, ]/)```\n",
    "\n",
    " - Applies the function with 2 arguments to iterable to reduce to a single value\n",
    "   ```\n",
    "      reduce(lambda x,y: x+y, [1,2,3,4,5]) \n",
    "   ```\n",
    " - The left argument x has the accumulated value whereas y has the current value from the iterable\n",
    " "
   ]
  },
  {
   "cell_type": "code",
   "execution_count": 25,
   "id": "f094b136-e428-4b2d-8d72-8a7123822e78",
   "metadata": {},
   "outputs": [
    {
     "data": {
      "text/plain": [
       "15"
      ]
     },
     "execution_count": 25,
     "metadata": {},
     "output_type": "execute_result"
    }
   ],
   "source": [
    "from functools import reduce\n",
    "\n",
    "reduce(lambda x,y: x+y, [1,2,3,4,5]) "
   ]
  },
  {
   "cell_type": "markdown",
   "id": "700d5e7d-14ee-4aa7-9939-2cf5afde7c74",
   "metadata": {},
   "source": [
    "More functools functions - https://docs.python.org/3/library/functools.html#"
   ]
  },
  {
   "cell_type": "markdown",
   "id": "9c3e444c-d4e5-4b6c-8389-ac36f8c9501d",
   "metadata": {},
   "source": [
    "<h4>PARTIAL</h4>\n",
    "\n",
    "```\n",
    "functools.partial(func, /, *args, **keywords)¶\n",
    "```"
   ]
  },
  {
   "cell_type": "code",
   "execution_count": 39,
   "id": "166bda52-51b0-48cd-b5fa-63f53838b80c",
   "metadata": {},
   "outputs": [
    {
     "name": "stdout",
     "output_type": "stream",
     "text": [
      "Cottage Cheese Recipe\n",
      "\n",
      "Add Onion\n",
      "Add Spices\n",
      "Add Tomato\n",
      "Add Cottage Cheese\n",
      "Add Cream\n",
      "\n",
      "Chicken Recipe\n",
      "\n",
      "Add Onion\n",
      "Add Spices\n",
      "Add Tomato\n",
      "Add Chicken\n",
      "Add Butter\n"
     ]
    }
   ],
   "source": [
    "from functools import partial\n",
    "\n",
    "def cooking_instructions(ing1, ing2, ing3, ing4, ing5):\n",
    "    print (f\"Add {ing1}\")\n",
    "    print (f\"Add {ing2}\")\n",
    "    print (f\"Add {ing3}\")\n",
    "    print (f\"Add {ing4}\")\n",
    "    print (f\"Add {ing5}\")\n",
    "\n",
    "f = partial(cooking_instructions, 'Onion', 'Spices', 'Tomato')\n",
    "print(\"Cottage Cheese Recipe\\n\")\n",
    "f('Cottage Cheese', 'Cream')\n",
    "print(\"\\nChicken Recipe\\n\")\n",
    "f('Chicken', 'Butter')"
   ]
  },
  {
   "cell_type": "code",
   "execution_count": null,
   "id": "11b0e288-0fb0-4ecf-9132-fb7ec8d3a74f",
   "metadata": {},
   "outputs": [],
   "source": []
  }
 ],
 "metadata": {
  "kernelspec": {
   "display_name": "Python 3 (ipykernel)",
   "language": "python",
   "name": "python3"
  },
  "language_info": {
   "codemirror_mode": {
    "name": "ipython",
    "version": 3
   },
   "file_extension": ".py",
   "mimetype": "text/x-python",
   "name": "python",
   "nbconvert_exporter": "python",
   "pygments_lexer": "ipython3",
   "version": "3.12.8"
  }
 },
 "nbformat": 4,
 "nbformat_minor": 5
}
