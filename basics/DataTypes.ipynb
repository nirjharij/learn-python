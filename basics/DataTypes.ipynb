{
 "cells": [
  {
   "cell_type": "markdown",
   "id": "2e52bd1e-ebde-4462-b143-6b1543471f48",
   "metadata": {},
   "source": [
    "<h1> Data Types In Python </h1>"
   ]
  },
  {
   "cell_type": "markdown",
   "id": "1ace8c1d-46e9-4d67-a58b-c13d4683618a",
   "metadata": {},
   "source": [
    "<b> Here are the different built-in data types present in Python </b>\n",
    "\n",
    " - <b>Numeric Types </b>: <u> int, float, complex </u>\n",
    " - <b>Boolean Type </b>: <u> bool </u>\n",
    " - <b>Sequence Types </b>: <u> list, tuple, range </u>\n",
    " - <b>Text Sequence Type </b>: <u> str </u>\n",
    " - <b>Binary Sequence Types </b>: <u> bytes, bytearray, memoryview </u>\n",
    " - <b>Set Types </b>: <u> set, frozenset </u>\n",
    " - <b>Mapping Types </b>: <u> dict </u>"
   ]
  },
  {
   "cell_type": "markdown",
   "id": "41b9a204-b78e-4daf-9945-89bb0d06c9e9",
   "metadata": {},
   "source": [
    "<h3> Numeric Types </h3>"
   ]
  },
  {
   "cell_type": "code",
   "execution_count": 17,
   "id": "d53da693-0cbe-4c58-8963-c76d25232d84",
   "metadata": {},
   "outputs": [
    {
     "name": "stdout",
     "output_type": "stream",
     "text": [
      "Type of 10 is <class 'int'>\n",
      "Type of 23 is <class 'int'>\n",
      "Type of 54.37 is <class 'float'>\n",
      "Type of 45.67 is <class 'float'>\n",
      "Type of (43+9j) is <class 'complex'>\n",
      "Type of (54+2j) is <class 'complex'>\n"
     ]
    }
   ],
   "source": [
    "# INT\n",
    "a = 10\n",
    "print(\"Type of\", a, \"is\", type(a))\n",
    "\n",
    "aa = int(23)\n",
    "print(\"Type of\", aa, \"is\", type(aa))\n",
    "\n",
    "# FLOAT\n",
    "b = 54.37\n",
    "print(\"Type of\", b, \"is\", type(b))\n",
    "\n",
    "bb = float(45.67)\n",
    "print(\"Type of\", bb, \"is\", type(bb))\n",
    "\n",
    "# COMPLEX\n",
    "c = 43 + 9j\n",
    "print(\"Type of\", c, \"is\", type(c))\n",
    "\n",
    "cc = complex(54+2j)\n",
    "print(\"Type of\", cc, \"is\", type(cc))"
   ]
  },
  {
   "cell_type": "markdown",
   "id": "28050796-82b4-40b0-a6dc-2e209688d26c",
   "metadata": {},
   "source": [
    "<h3> Boolean Type </h3>"
   ]
  },
  {
   "cell_type": "code",
   "execution_count": 27,
   "id": "90fab54c-6055-45e3-8b01-be1eac8d180c",
   "metadata": {},
   "outputs": [
    {
     "name": "stdout",
     "output_type": "stream",
     "text": [
      "Type of True is <class 'bool'>\n",
      "Type of False is <class 'bool'>\n",
      "1 is True\n",
      "0 is False\n"
     ]
    }
   ],
   "source": [
    "print(\"Type of True is\", type(True))\n",
    "print(\"Type of False is\",type(False))\n",
    "\n",
    "print(\"1 is\", bool(1))\n",
    "print(\"0 is\", bool(0))"
   ]
  },
  {
   "cell_type": "markdown",
   "id": "13faf154-1669-4d34-bcc4-eb541a3db100",
   "metadata": {},
   "source": [
    "<h3> Sequence Types </h3>"
   ]
  },
  {
   "cell_type": "code",
   "execution_count": 16,
   "id": "84f8d952-5f9c-42f7-8e2e-7e1861dfb40a",
   "metadata": {},
   "outputs": [
    {
     "name": "stdout",
     "output_type": "stream",
     "text": [
      "Type of [1, 2, 3, 4, 5] is <class 'list'>\n",
      "Type of ['Hello', 'My', 'Name', 'is', 'Nirjhari'] is <class 'list'>\n",
      "Type of ['a', 'b', 1, 2, 'c'] is <class 'list'>\n",
      "Type of (1, 2, 3, 4, 5) is <class 'tuple'>\n",
      "Type of ('a', 'b', 'c') is <class 'tuple'>\n",
      "Type of (1, 2, 'a', 'b', 'c') is <class 'tuple'>\n",
      "range(0,10) is [0, 1, 2, 3, 4, 5, 6, 7, 8, 9]\n",
      "range(0,10,2) is [0, 2, 4, 6, 8]\n",
      "range(1, -10, -1) is [1, -1, -3, -5, -7, -9]\n"
     ]
    }
   ],
   "source": [
    "# LIST\n",
    "x = [1,2,3,4,5]\n",
    "print(\"Type of\", x, \"is\", type(x))\n",
    "\n",
    "xx = list([\"Hello\", \"My\", \"Name\", \"is\", \"Nirjhari\"]) \n",
    "print(\"Type of\", xx, \"is\", type(xx))\n",
    "\n",
    "xxx = [\"a\", \"b\", 1, 2, \"c\"]\n",
    "print(\"Type of\", xxx, \"is\", type(xxx))\n",
    "\n",
    "# TUPLE\n",
    "y = (1,2,3,4,5)\n",
    "print(\"Type of\", y, \"is\", type(y))\n",
    "\n",
    "yy = tuple((\"a\", \"b\", \"c\"))\n",
    "print(\"Type of\", yy, \"is\", type(yy))\n",
    "\n",
    "yyy = (1,2,\"a\", \"b\", \"c\")\n",
    "print(\"Type of\", yyy, \"is\", type(yyy))\n",
    "\n",
    "# RANGE\n",
    "z = list(range(0,10))\n",
    "print(\"range(0,10) is\", z)\n",
    "\n",
    "zz = list(range(0,10,2))\n",
    "print(\"range(0,10,2) is\", zz)\n",
    "\n",
    "zzz = list(range(1, -10, -2))\n",
    "print(\"range(1, -10, -1) is\", zzz)"
   ]
  },
  {
   "cell_type": "markdown",
   "id": "0a9a1a37-2110-4c41-be41-719d30d680d2",
   "metadata": {},
   "source": [
    "<h3> Text Sequence Type </h3>"
   ]
  },
  {
   "cell_type": "code",
   "execution_count": 3,
   "id": "b5253cda-75fe-414b-b839-50cbe7796590",
   "metadata": {},
   "outputs": [
    {
     "name": "stdout",
     "output_type": "stream",
     "text": [
      "Type of s, ss, sss is <class 'str'> <class 'str'> <class 'str'>\n",
      "Type of st is <class 'str'>\n"
     ]
    }
   ],
   "source": [
    "s = 'This is a string within single quotes'\n",
    "ss = \"This is a string within single quotes\"\n",
    "sss = '''This is a string with triple quotes. \n",
    "We can write in multiple lines with triple quotes'''\n",
    "\n",
    "print(\"Type of s, ss, sss is\", type(s), type(ss), type(sss))\n",
    "\n",
    "st = str(\"We can also define strings like this\")\n",
    "print(\"Type of st is\", type(st))"
   ]
  },
  {
   "cell_type": "markdown",
   "id": "edbdc043-5b61-4813-b7e9-3474091992a4",
   "metadata": {},
   "source": [
    "<h3> Binary Sequence Types </h3>\n",
    "\n",
    "- Used for manipulating binary data"
   ]
  },
  {
   "cell_type": "code",
   "execution_count": 11,
   "id": "1af14460-58dd-4012-bb7b-3678ed7ec173",
   "metadata": {},
   "outputs": [
    {
     "name": "stdout",
     "output_type": "stream",
     "text": [
      "Type of byt is <class 'bytes'>\n",
      "Type of byta and byta2 is <class 'bytearray'> <class 'bytearray'>\n",
      "104\n"
     ]
    }
   ],
   "source": [
    "# BYTES\n",
    "byt = b'This is a string within single quotes'\n",
    "print(\"Type of byt is\", type(byt))\n",
    "\n",
    "# BYTEARRAY\n",
    "byta = bytearray(range(5))\n",
    "byta2 = bytearray(b'Simple string')\n",
    "\n",
    "print(\"Type of byta and byta2 is\", type(byta), type(byta2))\n",
    "\n",
    "# MEMORYVIEW\n",
    "mv = memoryview(byt)\n",
    "print(mv[1])"
   ]
  },
  {
   "cell_type": "markdown",
   "id": "f6299fbc-8c39-44e1-b830-9628c347e832",
   "metadata": {},
   "source": [
    "<h3> Set Types </h3>\n",
    "\n",
    " - Set is unordered collection of distinct hashable objects\n",
    " - Set is mutable i.e. contents can be changed using methods add or remove\n",
    " - Frozenset is immutable"
   ]
  },
  {
   "cell_type": "code",
   "execution_count": 10,
   "id": "0c773534-00ea-4556-b46f-d3afd095b967",
   "metadata": {},
   "outputs": [
    {
     "name": "stdout",
     "output_type": "stream",
     "text": [
      "Type of {'a', 'b', 'c'} is <class 'set'>\n",
      "Type of {1, 2, 3, 4} is <class 'set'>\n",
      "Type of frozenset({1, 'b', 2, 'a'}) is <class 'frozenset'>\n"
     ]
    }
   ],
   "source": [
    "aset = {'a', 'b', 'c', 'c'}\n",
    "print(\"Type of\", aset, \"is\", type(aset))\n",
    "\n",
    "aset2 = set([1,2,3,4,1,2])\n",
    "print(\"Type of\", aset2, \"is\", type(aset2))\n",
    "\n",
    "frzset = frozenset(['a', 'b', 1, 2, 1])\n",
    "print(\"Type of\", frzset, \"is\", type(frzset))"
   ]
  },
  {
   "cell_type": "markdown",
   "id": "5e2a3161-8779-4559-8908-bacbff0a6353",
   "metadata": {},
   "source": [
    "<h3>Mapping Type</h3>\n",
    "\n",
    "- Mapping object maps hashable value to objects\n",
    "- Dictionaries contain keys which are hashable and values are mapped to these keys"
   ]
  },
  {
   "cell_type": "code",
   "execution_count": 14,
   "id": "9b82f903-d36a-4a56-a905-0d7aedd11046",
   "metadata": {},
   "outputs": [
    {
     "name": "stdout",
     "output_type": "stream",
     "text": [
      "Type of {'a': 1, 'b': 2, 'c': 3} is <class 'dict'>\n",
      "Type of {1: 'one', 2: 'two', 3: 'three'} is <class 'dict'>\n"
     ]
    }
   ],
   "source": [
    "dict1 = {'a': 1, 'b': 2, 'c': 3}\n",
    "print(\"Type of\", dict1, \"is\", type(dict1))\n",
    "\n",
    "dict2 = dict([(1, 'one'), (2, 'two'), (3, 'three')])\n",
    "print(\"Type of\", dict2, \"is\", type(dict2))"
   ]
  },
  {
   "cell_type": "markdown",
   "id": "3fd13af8-edfc-41b9-ba16-09b268f7c5f5",
   "metadata": {},
   "source": [
    "<h3>Memory View Demo</h3>"
   ]
  },
  {
   "cell_type": "code",
   "execution_count": 24,
   "id": "b6bc93d4-a084-47c3-8351-8576d2593c3e",
   "metadata": {},
   "outputs": [
    {
     "name": "stdout",
     "output_type": "stream",
     "text": [
      "0.0004589557647705078\n"
     ]
    }
   ],
   "source": [
    "import time\n",
    "large_dataset = bytearray([0] * 1000000)\n",
    "\n",
    "start = time.time()\n",
    "memory_view = memoryview(large_dataset)\n",
    "sliced_memory_view = memory_view[500:10000]\n",
    "sliced_memory_view[0:] = bytearray([1] * 9500)\n",
    "end = time.time()\n",
    "\n",
    "print(end - start)"
   ]
  },
  {
   "cell_type": "code",
   "execution_count": 25,
   "id": "6ea65ad7-8dd2-4767-bc39-424b6031ea65",
   "metadata": {},
   "outputs": [
    {
     "name": "stdout",
     "output_type": "stream",
     "text": [
      "0.0024178028106689453\n"
     ]
    }
   ],
   "source": [
    "large_data = [0] * 1000000\n",
    "start = time.time()\n",
    "# Updating part of list \n",
    "for i in range(500, 10000):\n",
    "    large_data[i] = 1\n",
    "end = time.time()\n",
    "print(end - start)"
   ]
  },
  {
   "cell_type": "code",
   "execution_count": null,
   "id": "7b1cb618-f8cd-4451-81ac-1b420bd2134f",
   "metadata": {},
   "outputs": [],
   "source": []
  }
 ],
 "metadata": {
  "kernelspec": {
   "display_name": "Python 3 (ipykernel)",
   "language": "python",
   "name": "python3"
  },
  "language_info": {
   "codemirror_mode": {
    "name": "ipython",
    "version": 3
   },
   "file_extension": ".py",
   "mimetype": "text/x-python",
   "name": "python",
   "nbconvert_exporter": "python",
   "pygments_lexer": "ipython3",
   "version": "3.9.6"
  }
 },
 "nbformat": 4,
 "nbformat_minor": 5
}
