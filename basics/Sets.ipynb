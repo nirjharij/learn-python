{
 "cells": [
  {
   "cell_type": "markdown",
   "id": "f6cee92a-1a9e-49fc-8faa-23aae3e87860",
   "metadata": {},
   "source": [
    "<h1>Sets in Python</h1>\n",
    " \n",
    " - A set is an unordered collection of data with no duplicate elements\n",
    " - Used for membership testing and removing duplicate entries\n",
    " - Sets support mathematical operations like union, intersection, difference and symmetric difference."
   ]
  },
  {
   "cell_type": "code",
   "execution_count": 4,
   "id": "1be75c2e-9e84-4d7d-b042-8866533ca7ac",
   "metadata": {},
   "outputs": [
    {
     "name": "stdout",
     "output_type": "stream",
     "text": [
      "Is blue present in colors: True\n",
      "Is yellow present in colors: False\n"
     ]
    }
   ],
   "source": [
    "colors = {'red', 'green' ,'blue', 'orange', 'purple'}\n",
    "print('Is blue present in colors:', 'blue' in colors)\n",
    "print('Is yellow present in colors:', 'yellow' in colors)"
   ]
  },
  {
   "cell_type": "code",
   "execution_count": 6,
   "id": "1b9e06eb-d4e5-45d8-8124-c643b55fd864",
   "metadata": {},
   "outputs": [
    {
     "name": "stdout",
     "output_type": "stream",
     "text": [
      "{'l', 'p', 'a', 'e'}\n",
      "{'b', 'a', 'n'}\n"
     ]
    }
   ],
   "source": [
    "# creating a set with duplicate values will remove duplicate entries and keep only uniques\n",
    "apple = set('apple')\n",
    "print(apple)\n",
    "banana = set('banana')\n",
    "print(banana)"
   ]
  },
  {
   "cell_type": "code",
   "execution_count": 8,
   "id": "e1dfd76a-e362-4ea1-a671-9a4d382e77bd",
   "metadata": {},
   "outputs": [
    {
     "data": {
      "text/plain": [
       "{'a', 'b', 'e', 'l', 'n', 'p'}"
      ]
     },
     "execution_count": 8,
     "metadata": {},
     "output_type": "execute_result"
    }
   ],
   "source": [
    "# union - gives unique letters in both apple and banana\n",
    "apple.union(banana)"
   ]
  },
  {
   "cell_type": "code",
   "execution_count": 10,
   "id": "c47586eb-779e-41ae-ae04-8e319b3b152f",
   "metadata": {},
   "outputs": [
    {
     "data": {
      "text/plain": [
       "{'a'}"
      ]
     },
     "execution_count": 10,
     "metadata": {},
     "output_type": "execute_result"
    }
   ],
   "source": [
    "# intersection - gives common letters from both apple and banana\n",
    "apple.intersection(banana)"
   ]
  },
  {
   "cell_type": "code",
   "execution_count": 18,
   "id": "527694ae-5ac1-4873-ab2c-64dca561dfe7",
   "metadata": {},
   "outputs": [
    {
     "name": "stdout",
     "output_type": "stream",
     "text": [
      "{'p', 'l', 'e'}\n",
      "{'b', 'n'}\n"
     ]
    }
   ],
   "source": [
    "# difference \n",
    "print(apple.difference(banana)) # gives letters which are present in apple but not in banana\n",
    "print(banana.difference(apple)) # gives letters which are present in banana but not in apple"
   ]
  },
  {
   "cell_type": "code",
   "execution_count": 20,
   "id": "b888db6b-db17-4866-9610-215d9329b6e8",
   "metadata": {},
   "outputs": [
    {
     "data": {
      "text/plain": [
       "{'b', 'e', 'l', 'n', 'p'}"
      ]
     },
     "execution_count": 20,
     "metadata": {},
     "output_type": "execute_result"
    }
   ],
   "source": [
    "# symmetric difference\n",
    "apple.symmetric_difference(banana)"
   ]
  },
  {
   "cell_type": "code",
   "execution_count": null,
   "id": "b578afca-f07c-48bb-8a02-fe846a318dc2",
   "metadata": {},
   "outputs": [],
   "source": []
  }
 ],
 "metadata": {
  "kernelspec": {
   "display_name": "Python 3 (ipykernel)",
   "language": "python",
   "name": "python3"
  },
  "language_info": {
   "codemirror_mode": {
    "name": "ipython",
    "version": 3
   },
   "file_extension": ".py",
   "mimetype": "text/x-python",
   "name": "python",
   "nbconvert_exporter": "python",
   "pygments_lexer": "ipython3",
   "version": "3.9.6"
  }
 },
 "nbformat": 4,
 "nbformat_minor": 5
}
