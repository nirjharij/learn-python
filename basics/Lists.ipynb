{
 "cells": [
  {
   "cell_type": "markdown",
   "id": "477e95a0-4cc2-4f36-b6aa-fb43ca887af7",
   "metadata": {},
   "source": [
    "<h1>Lists in Python</h1>\n",
    "\n",
    " - Lists can contain values from different data types enclosed within square brackets and separated by comma\n",
    " - Lists are mutable"
   ]
  },
  {
   "cell_type": "code",
   "execution_count": 3,
   "id": "cd6057d6-b936-48e5-af41-5052ee85a53e",
   "metadata": {},
   "outputs": [],
   "source": [
    "num_list = [1, 2, 3, 4, 5]"
   ]
  },
  {
   "cell_type": "code",
   "execution_count": 4,
   "id": "712dafe3-b9a7-49da-917a-7a8aadb7f372",
   "metadata": {},
   "outputs": [
    {
     "name": "stdout",
     "output_type": "stream",
     "text": [
      "1\n",
      "5\n"
     ]
    }
   ],
   "source": [
    "# indexing in Lists\n",
    "print(num_list[0])\n",
    "print(num_list[-1])"
   ]
  },
  {
   "cell_type": "code",
   "execution_count": 5,
   "id": "4a8cab3b-46be-4945-ab16-a370a7b99e67",
   "metadata": {},
   "outputs": [
    {
     "name": "stdout",
     "output_type": "stream",
     "text": [
      "[4, 5]\n"
     ]
    }
   ],
   "source": [
    "# List slicing\n",
    "print(num_list[3:])"
   ]
  },
  {
   "cell_type": "code",
   "execution_count": 6,
   "id": "d19a5625-ad33-4cc9-9aad-b8cfa787b647",
   "metadata": {},
   "outputs": [
    {
     "data": {
      "text/plain": [
       "[1, 2, 3, 4, 5, 'a', 'b', 'c', 'd', 'e']"
      ]
     },
     "execution_count": 6,
     "metadata": {},
     "output_type": "execute_result"
    }
   ],
   "source": [
    "# List concatenation\n",
    "alpha_list = ['a', 'b', 'c', 'd', 'e']\n",
    "num_list + alpha_list"
   ]
  },
  {
   "cell_type": "code",
   "execution_count": 7,
   "id": "28661116-00bd-4245-8082-ca2bef7f2c65",
   "metadata": {},
   "outputs": [
    {
     "name": "stdout",
     "output_type": "stream",
     "text": [
      "[1, 2, 7, 4, 5]\n"
     ]
    }
   ],
   "source": [
    "# Changing contents of List\n",
    "num_list[2] = 7\n",
    "print(num_list)"
   ]
  },
  {
   "cell_type": "code",
   "execution_count": 8,
   "id": "fc0ca6a4-d00a-4e33-8a58-16ebf7444929",
   "metadata": {},
   "outputs": [
    {
     "name": "stdout",
     "output_type": "stream",
     "text": [
      "[1, 2, 7, 10, 9, 8]\n"
     ]
    }
   ],
   "source": [
    "num_list[3:6] = [10, 9, 8]\n",
    "print(num_list)"
   ]
  },
  {
   "cell_type": "code",
   "execution_count": 9,
   "id": "4ba7234f-95ba-463a-ae6a-1720bda31f40",
   "metadata": {},
   "outputs": [
    {
     "data": {
      "text/plain": [
       "6"
      ]
     },
     "execution_count": 9,
     "metadata": {},
     "output_type": "execute_result"
    }
   ],
   "source": [
    "# length of list\n",
    "len(num_list)"
   ]
  },
  {
   "cell_type": "code",
   "execution_count": 10,
   "id": "b6f97043-3dfe-4b90-b063-d8db37f8eba7",
   "metadata": {},
   "outputs": [
    {
     "name": "stdout",
     "output_type": "stream",
     "text": [
      "[[1, 2, 7, 10, 9, 8], ['a', 'b', 'c', 'd', 'e']]\n",
      "2\n",
      "c\n"
     ]
    }
   ],
   "source": [
    "# List nesting: List inside a list\n",
    "alpha_num_list = [num_list, alpha_list]\n",
    "print(alpha_num_list)\n",
    "print(alpha_num_list[0][1])\n",
    "print(alpha_num_list[1][2])"
   ]
  },
  {
   "cell_type": "markdown",
   "id": "d5614230-38dc-4fb5-83bc-3667cb1b7ba6",
   "metadata": {},
   "source": [
    "<h3>List Methods</h3>"
   ]
  },
  {
   "cell_type": "code",
   "execution_count": 11,
   "id": "7394fe04-7abf-45c3-ada1-dedf05069495",
   "metadata": {},
   "outputs": [
    {
     "data": {
      "text/plain": [
       "['a', 'b', 'c', 'd', 'e', 'f']"
      ]
     },
     "execution_count": 11,
     "metadata": {},
     "output_type": "execute_result"
    }
   ],
   "source": [
    "# append\n",
    "alpha_list.append('f')\n",
    "alpha_list"
   ]
  },
  {
   "cell_type": "code",
   "execution_count": 12,
   "id": "d7b006f5-3181-4873-8096-9e8cc4e983b7",
   "metadata": {},
   "outputs": [
    {
     "data": {
      "text/plain": [
       "['a', 'b', 'c', 'd', 'e', 'f', 'g', 'h', 'i', 'j']"
      ]
     },
     "execution_count": 12,
     "metadata": {},
     "output_type": "execute_result"
    }
   ],
   "source": [
    "# extend\n",
    "alpha_list.extend(['g', 'h', 'i', 'j'])\n",
    "alpha_list"
   ]
  },
  {
   "cell_type": "code",
   "execution_count": 13,
   "id": "e803355d-57ff-4871-9c03-0e4e30dccf73",
   "metadata": {},
   "outputs": [
    {
     "name": "stdout",
     "output_type": "stream",
     "text": [
      "[1, 2, 7, 8, 9, 10]\n",
      "['j', 'i', 'h', 'g', 'f', 'e', 'd', 'c', 'b', 'a']\n"
     ]
    }
   ],
   "source": [
    "# sort\n",
    "num_list.sort()\n",
    "alpha_list.sort(reverse=True)\n",
    "print(num_list)\n",
    "print(alpha_list)"
   ]
  },
  {
   "cell_type": "markdown",
   "id": "be4aef17-1db5-4491-952f-2fbbb8075464",
   "metadata": {},
   "source": [
    "<h3>Shallow Copy and Deep Copy</h3>"
   ]
  },
  {
   "cell_type": "markdown",
   "id": "35b5564e-1b01-425c-b52f-a69d9472adda",
   "metadata": {},
   "source": [
    " - Simple assignment does not copies data in Python"
   ]
  },
  {
   "cell_type": "code",
   "execution_count": 14,
   "id": "ab84f818-bed6-4878-a5e3-dd60ddf89936",
   "metadata": {},
   "outputs": [
    {
     "name": "stdout",
     "output_type": "stream",
     "text": [
      "['car', 'scooter', 'truck', 'bus']\n"
     ]
    }
   ],
   "source": [
    "vehicles = ['car', 'scooter', 'truck']\n",
    "copy_vehicles = vehicles\n",
    "copy_vehicles.append('bus')\n",
    "print(vehicles)"
   ]
  },
  {
   "cell_type": "markdown",
   "id": "e0a685a1-c5b7-4304-bda8-b04ad7feff55",
   "metadata": {},
   "source": [
    "<b>Question: </b> What to do if you want to have copy of a data and change the copy without affecting the original data?\n",
    "</br>\n",
    "<b>Answer: </b> Shallow Copy or Deep Copy"
   ]
  },
  {
   "cell_type": "markdown",
   "id": "f6da0250-afec-415e-b808-a7ccbd3c4108",
   "metadata": {},
   "source": [
    "<b> Shallow Copy </b> \n",
    "\n",
    "- Shallow copy can be done in multiple ways: \n",
    "   - Taking a complete slice [:]\n",
    "   - Using factory functions list(),dict() etc.\n",
    "   - Using the copy() function\n",
    "\n",
    " - The following example shows shallow copy using slice"
   ]
  },
  {
   "cell_type": "code",
   "execution_count": 18,
   "id": "4ce95a98-011c-45f0-b901-f83fbe7821af",
   "metadata": {},
   "outputs": [
    {
     "name": "stdout",
     "output_type": "stream",
     "text": [
      "['car', 'scooter', 'tractor', 'bus', 'bicycle']\n",
      "['car', 'scooter', 'truck', 'bus']\n"
     ]
    }
   ],
   "source": [
    "new_vehicles = vehicles[:]\n",
    "new_vehicles[2] = 'tractor'\n",
    "new_vehicles.append('bicycle')\n",
    "print(new_vehicles)\n",
    "print(vehicles)"
   ]
  },
  {
   "cell_type": "code",
   "execution_count": 32,
   "id": "6465a3cc-1b2a-4f7b-9927-e93f6084aa9e",
   "metadata": {},
   "outputs": [
    {
     "name": "stdout",
     "output_type": "stream",
     "text": [
      "After doing shallow copy\n",
      "['name', ['score', 100]] ['name', ['score', 100]]\n",
      "After updating player1 name\n",
      "['Virat', ['score', 100]] ['name', ['score', 100]]\n",
      "After updating player2 name\n",
      "['Virat', ['score', 100]] ['Rohit', ['score', 100]]\n",
      "After updating player1 score\n",
      "['Virat', ['score', 80]] ['Rohit', ['score', 80]]\n"
     ]
    }
   ],
   "source": [
    "import copy\n",
    "score = ['name', ['score', 100]]\n",
    "player1 = list(score)\n",
    "player2 = copy.copy(score)\n",
    "print(\"After doing shallow copy\")\n",
    "print(player1, player2)\n",
    "\n",
    "player1[0] = 'Virat'\n",
    "print(\"After updating player1 name\")\n",
    "print(player1, player2)\n",
    "player2[0] = 'Rohit'\n",
    "print(\"After updating player2 name\")\n",
    "print(player1, player2)\n",
    "player1[1][1] = 80\n",
    "print(\"After updating player1 score\")\n",
    "print(player1, player2)"
   ]
  },
  {
   "cell_type": "markdown",
   "id": "52091441-1a85-42f1-b22b-60207a087f05",
   "metadata": {},
   "source": [
    "<b> Deep Copy </b>\n",
    "\n",
    "  - Deep copy can be done by using *copy.deepcopy()* function"
   ]
  },
  {
   "cell_type": "code",
   "execution_count": 34,
   "id": "c042ae9d-4649-40ed-aae9-d06a8a5d13cc",
   "metadata": {},
   "outputs": [
    {
     "name": "stdout",
     "output_type": "stream",
     "text": [
      "After doing deep copy\n",
      "['name', ['score', 100]] ['name', ['score', 100]]\n",
      "After updating player1 name\n",
      "['Virat', ['score', 100]] ['name', ['score', 100]]\n",
      "After updating player2 name\n",
      "['Virat', ['score', 100]] ['Rohit', ['score', 100]]\n",
      "After updating player1 score\n",
      "['Virat', ['score', 80]] ['Rohit', ['score', 100]]\n",
      "After updating player2 score\n",
      "['Virat', ['score', 80]] ['Rohit', ['score', 90]]\n"
     ]
    }
   ],
   "source": [
    "import copy\n",
    "score = ['name', ['score', 100]]\n",
    "player1 = copy.deepcopy(score)\n",
    "player2 = copy.deepcopy(score)\n",
    "print(\"After doing deep copy\")\n",
    "print(player1, player2)\n",
    "\n",
    "player1[0] = 'Virat'\n",
    "print(\"After updating player1 name\")\n",
    "print(player1, player2)\n",
    "player2[0] = 'Rohit'\n",
    "print(\"After updating player2 name\")\n",
    "print(player1, player2)\n",
    "player1[1][1] = 80\n",
    "print(\"After updating player1 score\")\n",
    "print(player1, player2)\n",
    "player2[1][1] = 90\n",
    "print(\"After updating player2 score\")\n",
    "print(player1, player2)"
   ]
  },
  {
   "cell_type": "markdown",
   "id": "17fb9deb-2a41-4b99-b971-7421d8231e07",
   "metadata": {},
   "source": [
    "<b> Shallow Copy vs Deep Copy </b>\n",
    " \n",
    " - In shallow copy a new object of the same type as original object is created *but* <b>its contents are references to elements of original objects</b>.\n",
    "\n",
    " - In deep copy a new object of the same type as original object is created along with <b>new references to elements in the object</b>.\n",
    "\n",
    "---------------\n",
    " - In shallow copy if the content present in the object is immutable like Strings then it is copied explicitly like in deep copy"
   ]
  }
 ],
 "metadata": {
  "kernelspec": {
   "display_name": "Python 3 (ipykernel)",
   "language": "python",
   "name": "python3"
  },
  "language_info": {
   "codemirror_mode": {
    "name": "ipython",
    "version": 3
   },
   "file_extension": ".py",
   "mimetype": "text/x-python",
   "name": "python",
   "nbconvert_exporter": "python",
   "pygments_lexer": "ipython3",
   "version": "3.9.6"
  }
 },
 "nbformat": 4,
 "nbformat_minor": 5
}
