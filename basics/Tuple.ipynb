{
 "cells": [
  {
   "cell_type": "markdown",
   "id": "6257b8ef-a28d-43b8-988e-455be06d2fd2",
   "metadata": {},
   "source": [
    "<h1>Tuple in Python</h1>\n",
    "\n",
    " - A tuple consists of a number of values separated by commas enclosed within parenthesis\n",
    " - Tuple is immutable"
   ]
  },
  {
   "cell_type": "code",
   "execution_count": 2,
   "id": "ece9511c-a4a2-4d40-9c40-f5ab9a230cad",
   "metadata": {},
   "outputs": [
    {
     "name": "stdout",
     "output_type": "stream",
     "text": [
      "(1, 2, 3, 4, 5)\n",
      "('a', 'b', 'c', 'd', 'e')\n"
     ]
    }
   ],
   "source": [
    "t = 1,2,3,4,5\n",
    "print(t)\n",
    "t2 = ('a', 'b', 'c', 'd', 'e')\n",
    "print(t2)"
   ]
  },
  {
   "cell_type": "code",
   "execution_count": 3,
   "id": "7e2a6786-ed15-4e0d-8790-7ec11b4fcccb",
   "metadata": {},
   "outputs": [
    {
     "name": "stdout",
     "output_type": "stream",
     "text": [
      "1 5\n"
     ]
    }
   ],
   "source": [
    "# indexing\n",
    "print(t[0], t[-1])"
   ]
  },
  {
   "cell_type": "code",
   "execution_count": 7,
   "id": "b1d28019-162a-47a7-916d-eefa4c4f7dd9",
   "metadata": {},
   "outputs": [
    {
     "ename": "TypeError",
     "evalue": "'tuple' object does not support item assignment",
     "output_type": "error",
     "traceback": [
      "\u001b[0;31m---------------------------------------------------------------------------\u001b[0m",
      "\u001b[0;31mTypeError\u001b[0m                                 Traceback (most recent call last)",
      "Cell \u001b[0;32mIn[7], line 2\u001b[0m\n\u001b[1;32m      1\u001b[0m t3 \u001b[38;5;241m=\u001b[39m ([\u001b[38;5;241m1\u001b[39m,\u001b[38;5;241m2\u001b[39m,\u001b[38;5;241m3\u001b[39m], [\u001b[38;5;124m'\u001b[39m\u001b[38;5;124ma\u001b[39m\u001b[38;5;124m'\u001b[39m, \u001b[38;5;124m'\u001b[39m\u001b[38;5;124mb\u001b[39m\u001b[38;5;124m'\u001b[39m, \u001b[38;5;124m'\u001b[39m\u001b[38;5;124mc\u001b[39m\u001b[38;5;124m'\u001b[39m])\n\u001b[0;32m----> 2\u001b[0m \u001b[43mt3\u001b[49m\u001b[43m[\u001b[49m\u001b[38;5;241;43m0\u001b[39;49m\u001b[43m]\u001b[49m \u001b[38;5;241m=\u001b[39m \u001b[38;5;241m2\u001b[39m \u001b[38;5;66;03m# tuple is immutable and hence does not allow changing its contents\u001b[39;00m\n\u001b[1;32m      3\u001b[0m \u001b[38;5;28mprint\u001b[39m(t3)\n",
      "\u001b[0;31mTypeError\u001b[0m: 'tuple' object does not support item assignment"
     ]
    }
   ],
   "source": [
    "t3 = ([1,2,3], ['a', 'b', 'c'])\n",
    "t3[0] = 2 # tuple is immutable and hence does not allow changing its contents\n",
    "print(t3)"
   ]
  },
  {
   "cell_type": "code",
   "execution_count": 10,
   "id": "f378acf4-627f-4b3d-9cbd-29a913f8fd7b",
   "metadata": {},
   "outputs": [
    {
     "name": "stdout",
     "output_type": "stream",
     "text": [
      "0\n",
      "('a',)\n",
      "1\n"
     ]
    }
   ],
   "source": [
    "# tuple contaning 0 and 1 items\n",
    "empty_tuple = ()\n",
    "print(len(empty_tuple))\n",
    "single_item_tuple = 'a',\n",
    "print(single_item_tuple)\n",
    "print(len(single_item_tuple))"
   ]
  },
  {
   "cell_type": "code",
   "execution_count": 12,
   "id": "ed73c767-9188-402a-a95e-02c62f1fe4bf",
   "metadata": {},
   "outputs": [
    {
     "name": "stdout",
     "output_type": "stream",
     "text": [
      "1 2 3\n"
     ]
    }
   ],
   "source": [
    "# unpacking tuple - there should be as many variables on left hand side\n",
    "t = 1,2,3\n",
    "a, b, c = t\n",
    "print(a, b, c)"
   ]
  },
  {
   "cell_type": "code",
   "execution_count": null,
   "id": "23cde21e-84f3-4fa8-b454-e3010300818e",
   "metadata": {},
   "outputs": [],
   "source": []
  }
 ],
 "metadata": {
  "kernelspec": {
   "display_name": "Python 3 (ipykernel)",
   "language": "python",
   "name": "python3"
  },
  "language_info": {
   "codemirror_mode": {
    "name": "ipython",
    "version": 3
   },
   "file_extension": ".py",
   "mimetype": "text/x-python",
   "name": "python",
   "nbconvert_exporter": "python",
   "pygments_lexer": "ipython3",
   "version": "3.9.6"
  }
 },
 "nbformat": 4,
 "nbformat_minor": 5
}
