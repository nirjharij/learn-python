{
 "cells": [
  {
   "cell_type": "markdown",
   "id": "7d57ddf0-6111-4a01-9aed-4b026c3c003e",
   "metadata": {},
   "source": [
    "<h1> Function Arguments </h1>"
   ]
  },
  {
   "cell_type": "markdown",
   "id": "bfe9a06f-5b7f-4a90-a55f-8b0c9aa5c552",
   "metadata": {},
   "source": [
    "<h4>DEFAULT ARGUMENT VALUES</h4>"
   ]
  },
  {
   "cell_type": "code",
   "execution_count": 12,
   "id": "a63400f1-f65b-48ba-96f5-eb2776695b34",
   "metadata": {},
   "outputs": [
    {
     "name": "stdout",
     "output_type": "stream",
     "text": [
      "Students name is Tanu and is 12 years old, born in India and language spoken is Hindi\n",
      "Students name is Ravi and is 10 years old, born in USA and language spoken is Telugu\n",
      "Students name is Joey and is 11 years old, born in USA and language spoken is English\n"
     ]
    }
   ],
   "source": [
    "def children_info(name, age, birth_place='India', mother_tongue='Hindi'):\n",
    "    print (f\"Students name is {name} and is {age} years old, born in {birth_place} and language spoken is {mother_tongue}\")\n",
    "\n",
    "\n",
    "children_info(\"Tanu\", 12)\n",
    "children_info(\"Ravi\", 10, \"USA\", \"Telugu\")\n",
    "children_info(\"Joey\", 11, \"USA\", \"English\")"
   ]
  },
  {
   "cell_type": "markdown",
   "id": "7f324987-6829-463f-9408-087eca8bf90e",
   "metadata": {},
   "source": [
    "<h4>KEYWORD ARGUMENTS</h4>\n",
    " \n",
    " - keyword arguments must follow positional arguments\n",
    " "
   ]
  },
  {
   "cell_type": "code",
   "execution_count": 7,
   "id": "9dc9bce2-832d-499d-8425-259e1a235ea9",
   "metadata": {},
   "outputs": [
    {
     "name": "stdout",
     "output_type": "stream",
     "text": [
      "Students name is Rahul and is 14 years old, born in India and language spoken is Kannada\n",
      "Students name is John and is 13 years old, born in Germany and language spoken is German\n"
     ]
    }
   ],
   "source": [
    "# Functions can also be called using keyword arguments \n",
    "children_info(\"Rahul\", 14, mother_tongue='Kannada')\n",
    "children_info(\"John\", 13, \"Germany\", mother_tongue='German')"
   ]
  },
  {
   "cell_type": "markdown",
   "id": "cc210aaf-8693-4579-a354-c42cd675ecda",
   "metadata": {},
   "source": [
    "- keyword arguments can be provided in any order"
   ]
  },
  {
   "cell_type": "code",
   "execution_count": 9,
   "id": "d9f5b764-7ba8-4bca-ad79-83c909419c7a",
   "metadata": {},
   "outputs": [
    {
     "name": "stdout",
     "output_type": "stream",
     "text": [
      "Students name is Monica and is 15 years old, born in France and language spoken is French\n"
     ]
    }
   ],
   "source": [
    "children_info(\"Monica\", 15, mother_tongue='French', birth_place='France')"
   ]
  },
  {
   "cell_type": "code",
   "execution_count": 10,
   "id": "6361ab5c-2455-4224-9084-598ca8c05d35",
   "metadata": {},
   "outputs": [
    {
     "name": "stdout",
     "output_type": "stream",
     "text": [
      "Students name is Yogesh and is 12 years old, born in India and language spoken is Hindi\n"
     ]
    }
   ],
   "source": [
    "children_info(name=\"Yogesh\", age=12)"
   ]
  },
  {
   "cell_type": "markdown",
   "id": "909dd39f-254f-4a74-acdb-ea8bbd8ece39",
   "metadata": {},
   "source": [
    "<h4>*args && **kwargs</h4>\n",
    "\n",
    "  - <b>*args</b> - receives a tuple contaning positional arguments beyond the formal parameter list\n",
    "  - <b>**kwargs</b> - receives dictionary containing all keyword arguments except for those corresponding to a formal parameter"
   ]
  },
  {
   "cell_type": "code",
   "execution_count": 21,
   "id": "13cbf665-554e-4066-b7fe-7e34813b23ee",
   "metadata": {},
   "outputs": [],
   "source": [
    "def match_info(match, *players, **players_score):\n",
    "    print(f\"The match is between {match}\")\n",
    "    print(\"The players that played the match are:\")\n",
    "    for player in players:\n",
    "        print(player)\n",
    "    for player in players_score:\n",
    "        print(player, players_score[player])"
   ]
  },
  {
   "cell_type": "code",
   "execution_count": 22,
   "id": "25cf3de8-cfb0-410d-ae1d-8c4969ed2e69",
   "metadata": {},
   "outputs": [
    {
     "name": "stdout",
     "output_type": "stream",
     "text": [
      "The match is between India vs Bangladesh\n",
      "The players that played the match are:\n",
      "Sachin Tendulkar\n",
      "Virendra Sehwag\n",
      "Rahul Dravid\n",
      "Sourav Ganguly\n",
      "Sachin 100\n",
      "Sehwag 99\n",
      "Dravid 90\n",
      "Ganguly 78\n"
     ]
    }
   ],
   "source": [
    "match_info(\"India vs Bangladesh\", \n",
    "           'Sachin Tendulkar', 'Virendra Sehwag', 'Rahul Dravid', 'Sourav Ganguly', \n",
    "           Sachin=100, Sehwag=99, Dravid=90, Ganguly=78)"
   ]
  },
  {
   "cell_type": "markdown",
   "id": "56ca5bf7-97e6-4624-93af-a78d7abfba43",
   "metadata": {},
   "source": [
    "<h4>Unpacking Arguments List</h4>\n",
    "\n",
    " - When arguments are already in a list or tuple\n",
    "but need to be unpacked for a function call requiring separate positional arguments"
   ]
  },
  {
   "cell_type": "code",
   "execution_count": 24,
   "id": "071332d9-8e90-4361-bd35-c9c3a1e959e1",
   "metadata": {},
   "outputs": [
    {
     "name": "stdout",
     "output_type": "stream",
     "text": [
      "The match is between India vs Bangladesh\n",
      "The players that played the match are:\n",
      "Sachin Tendulkar\n",
      "Virendra Sehwag\n",
      "Rahul Dravid\n",
      "Sourav Ganguly\n",
      "Sachin 100\n",
      "Sehwag 99\n",
      "Dravid 90\n",
      "Ganguly 78\n"
     ]
    }
   ],
   "source": [
    "players = ['Sachin Tendulkar', 'Virendra Sehwag', 'Rahul Dravid', 'Sourav Ganguly']\n",
    "players_score = {'Sachin': 100, 'Sehwag':99, 'Dravid': 90, 'Ganguly':78}\n",
    "match_info(\"India vs Bangladesh\", \n",
    "           *players, \n",
    "           **players_score)"
   ]
  },
  {
   "cell_type": "markdown",
   "id": "2da7bcec-c994-44b0-8584-582610d7294a",
   "metadata": {},
   "source": [
    "<h4>SPECIAL PARAMETERS</h4>\n",
    "\n",
    " - Arguments are passed either by position or explicitly by keyword\n",
    " - A function definition may look like\n",
    "```\n",
    "    def func(pos_only_arg, /, pos_or_kwd_arg, *, kwd_only_arg):\n",
    "        function body\n",
    "```"
   ]
  },
  {
   "cell_type": "code",
   "execution_count": 2,
   "id": "2e372673-35a8-4fab-9581-12b5e6e2638d",
   "metadata": {},
   "outputs": [],
   "source": [
    "def pos_or_kwd_func(arg):\n",
    "    print(arg)\n",
    "\n",
    "def pos_only_func(arg, /):\n",
    "    print(arg)\n",
    "\n",
    "def kwd_only_func(*, arg):\n",
    "    print(arg)\n",
    "\n",
    "def all_func(pos_only_arg, /, pos_or_kwd_arg, *, kwd_only_arg):\n",
    "    print(pos_only_arg, pos_or_kwd_arg, kwd_only_arg)"
   ]
  },
  {
   "cell_type": "code",
   "execution_count": 3,
   "id": "c4036972-981c-40d1-b9e8-452dd1dbe890",
   "metadata": {},
   "outputs": [
    {
     "name": "stdout",
     "output_type": "stream",
     "text": [
      "1\n",
      "2\n"
     ]
    }
   ],
   "source": [
    "pos_or_kwd_func(1)\n",
    "pos_or_kwd_func(arg=2)"
   ]
  },
  {
   "cell_type": "code",
   "execution_count": 4,
   "id": "e319af5a-f2bf-410a-a8d2-9be1d38bec2d",
   "metadata": {},
   "outputs": [
    {
     "name": "stdout",
     "output_type": "stream",
     "text": [
      "1\n"
     ]
    },
    {
     "ename": "TypeError",
     "evalue": "pos_only_func() got some positional-only arguments passed as keyword arguments: 'arg'",
     "output_type": "error",
     "traceback": [
      "\u001b[0;31m---------------------------------------------------------------------------\u001b[0m",
      "\u001b[0;31mTypeError\u001b[0m                                 Traceback (most recent call last)",
      "Cell \u001b[0;32mIn[4], line 2\u001b[0m\n\u001b[1;32m      1\u001b[0m pos_only_func(\u001b[38;5;241m1\u001b[39m)\n\u001b[0;32m----> 2\u001b[0m \u001b[43mpos_only_func\u001b[49m\u001b[43m(\u001b[49m\u001b[43marg\u001b[49m\u001b[38;5;241;43m=\u001b[39;49m\u001b[38;5;241;43m2\u001b[39;49m\u001b[43m)\u001b[49m\n",
      "\u001b[0;31mTypeError\u001b[0m: pos_only_func() got some positional-only arguments passed as keyword arguments: 'arg'"
     ]
    }
   ],
   "source": [
    "pos_only_func(1)\n",
    "pos_only_func(arg=2)"
   ]
  },
  {
   "cell_type": "code",
   "execution_count": 5,
   "id": "239be060-d5d4-48ee-a555-a2543c130e06",
   "metadata": {},
   "outputs": [
    {
     "name": "stdout",
     "output_type": "stream",
     "text": [
      "1\n"
     ]
    },
    {
     "ename": "TypeError",
     "evalue": "kwd_only_func() takes 0 positional arguments but 1 was given",
     "output_type": "error",
     "traceback": [
      "\u001b[0;31m---------------------------------------------------------------------------\u001b[0m",
      "\u001b[0;31mTypeError\u001b[0m                                 Traceback (most recent call last)",
      "Cell \u001b[0;32mIn[5], line 2\u001b[0m\n\u001b[1;32m      1\u001b[0m kwd_only_func(arg\u001b[38;5;241m=\u001b[39m\u001b[38;5;241m1\u001b[39m)\n\u001b[0;32m----> 2\u001b[0m \u001b[43mkwd_only_func\u001b[49m\u001b[43m(\u001b[49m\u001b[38;5;241;43m2\u001b[39;49m\u001b[43m)\u001b[49m\n",
      "\u001b[0;31mTypeError\u001b[0m: kwd_only_func() takes 0 positional arguments but 1 was given"
     ]
    }
   ],
   "source": [
    "kwd_only_func(arg=1)\n",
    "kwd_only_func(2)"
   ]
  },
  {
   "cell_type": "code",
   "execution_count": 6,
   "id": "30872577-ba50-4667-ae49-3eedb7e35940",
   "metadata": {},
   "outputs": [
    {
     "ename": "TypeError",
     "evalue": "all_func() takes 2 positional arguments but 3 were given",
     "output_type": "error",
     "traceback": [
      "\u001b[0;31m---------------------------------------------------------------------------\u001b[0m",
      "\u001b[0;31mTypeError\u001b[0m                                 Traceback (most recent call last)",
      "Cell \u001b[0;32mIn[6], line 1\u001b[0m\n\u001b[0;32m----> 1\u001b[0m \u001b[43mall_func\u001b[49m\u001b[43m(\u001b[49m\u001b[38;5;241;43m1\u001b[39;49m\u001b[43m,\u001b[49m\u001b[38;5;241;43m2\u001b[39;49m\u001b[43m,\u001b[49m\u001b[38;5;241;43m3\u001b[39;49m\u001b[43m)\u001b[49m\n",
      "\u001b[0;31mTypeError\u001b[0m: all_func() takes 2 positional arguments but 3 were given"
     ]
    }
   ],
   "source": [
    "all_func(1,2,3)"
   ]
  },
  {
   "cell_type": "code",
   "execution_count": 7,
   "id": "8093c43b-6eef-40ac-b3de-ece229191c30",
   "metadata": {},
   "outputs": [
    {
     "name": "stdout",
     "output_type": "stream",
     "text": [
      "1 2 3\n"
     ]
    }
   ],
   "source": [
    "all_func(1, 2, kwd_only_arg=3)"
   ]
  },
  {
   "cell_type": "code",
   "execution_count": 8,
   "id": "697e713d-51d7-454c-97c1-7d785490a560",
   "metadata": {},
   "outputs": [
    {
     "name": "stdout",
     "output_type": "stream",
     "text": [
      "1 2 3\n"
     ]
    }
   ],
   "source": [
    "all_func(1, pos_or_kwd_arg=2, kwd_only_arg=3)"
   ]
  },
  {
   "cell_type": "code",
   "execution_count": null,
   "id": "714f8e67-6d22-4d07-becf-38d2cbc4543e",
   "metadata": {},
   "outputs": [],
   "source": []
  }
 ],
 "metadata": {
  "kernelspec": {
   "display_name": "Python 3 (ipykernel)",
   "language": "python",
   "name": "python3"
  },
  "language_info": {
   "codemirror_mode": {
    "name": "ipython",
    "version": 3
   },
   "file_extension": ".py",
   "mimetype": "text/x-python",
   "name": "python",
   "nbconvert_exporter": "python",
   "pygments_lexer": "ipython3",
   "version": "3.12.8"
  }
 },
 "nbformat": 4,
 "nbformat_minor": 5
}
