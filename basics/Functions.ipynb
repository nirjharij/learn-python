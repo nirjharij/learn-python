{
 "cells": [
  {
   "cell_type": "markdown",
   "id": "3af83efb-c568-4c8a-aab9-8e66aaea7b96",
   "metadata": {},
   "source": [
    "<h1>Functions in Python</h1>\n",
    "\n",
    "Function Definition:\n",
    "\n",
    "```\n",
    "def function_name(arguments):\n",
    "    body of the function\n",
    "\n",
    "```\n",
    "\n",
    "  - Functions can and cannot have a `return` statement.\n",
    "  - The functions that do not have a `return` returns None "
   ]
  },
  {
   "cell_type": "code",
   "execution_count": 2,
   "id": "de176bd4-3497-4979-b0a8-1f833132ba20",
   "metadata": {},
   "outputs": [
    {
     "name": "stdout",
     "output_type": "stream",
     "text": [
      "101\n",
      "5555\n"
     ]
    }
   ],
   "source": [
    "# Write a function to get sum of two numbers\n",
    "def add_numbers(n1, n2):\n",
    "    \"\"\"\n",
    "        Adds two numbers and returns the result\n",
    "    \"\"\"\n",
    "    return n1 + n2\n",
    "\n",
    "print(add_numbers(34,67))\n",
    "print(add_numbers(-1234,6789))"
   ]
  },
  {
   "cell_type": "code",
   "execution_count": 5,
   "id": "31f189c9-535c-4c21-956f-edd23c1af551",
   "metadata": {},
   "outputs": [
    {
     "data": {
      "text/plain": [
       "4266"
      ]
     },
     "execution_count": 5,
     "metadata": {},
     "output_type": "execute_result"
    }
   ],
   "source": [
    "# Function name refers to a function object which can be referenced by any variable\n",
    "add = add_numbers\n",
    "add(3432,834)"
   ]
  },
  {
   "cell_type": "code",
   "execution_count": 4,
   "id": "2096e938-c117-4582-862a-3c9ec15f89cf",
   "metadata": {},
   "outputs": [
    {
     "data": {
      "text/plain": [
       "False"
      ]
     },
     "execution_count": 4,
     "metadata": {},
     "output_type": "execute_result"
    }
   ],
   "source": [
    "# Write a function that checks if a number is prime or not\n",
    "def is_prime(num):\n",
    "    \"\"\"\n",
    "        Returns whether a number is prime or not\n",
    "    \"\"\"\n",
    "    if num == 0 or num == 1:\n",
    "        return False\n",
    "    if num == 2:\n",
    "        return True\n",
    "    i = 2\n",
    "    while i < num:\n",
    "        if num % i == 0:\n",
    "            return False\n",
    "        i+=1\n",
    "\n",
    "    return True\n",
    "\n",
    "is_prime(66)"
   ]
  },
  {
   "cell_type": "markdown",
   "id": "c5f4368e-1e9c-43ed-bc34-5354edfb446b",
   "metadata": {},
   "source": [
    "<b>Are functions in Python call-by value or call-by reference?</b>\n",
    "\n",
    " - For mutable objects as arguments to function\n",
    "    - The arguments can be considered as being passed using call-by reference\n",
    " - For immutable objects \n",
    "    - The arguments can be considered as being passed using call-by value\n"
   ]
  },
  {
   "cell_type": "markdown",
   "id": "9a02ba4c-7903-4dfc-b068-aef3e64c905b",
   "metadata": {},
   "source": [
    "<h3>Function Execution </h3>\n",
    "\n",
    " - When a function executes a symbol table is created which contains all the variables that are defined inside this function\n",
    " - A variable reference always looks in the local symbol table then in the enclosing functions symbol table and then in global symbol table and finally in built-in names"
   ]
  },
  {
   "cell_type": "code",
   "execution_count": 24,
   "id": "7246e795-d6cf-431b-9197-74a94f37deb5",
   "metadata": {},
   "outputs": [
    {
     "data": {
      "text/plain": [
       "60"
      ]
     },
     "execution_count": 24,
     "metadata": {},
     "output_type": "execute_result"
    }
   ],
   "source": [
    "x = 10\n",
    "\n",
    "def func():\n",
    "    y = 20\n",
    "    def ifunc():\n",
    "        z = 30\n",
    "        # global x\n",
    "        # x = 5\n",
    "        # nonlocal y\n",
    "        # y = 100\n",
    "        return z\n",
    "    s = ifunc() + y\n",
    "    return s + x\n",
    "\n",
    "func()"
   ]
  },
  {
   "cell_type": "code",
   "execution_count": null,
   "id": "111c8fe9-e217-43f9-a171-7899bc2633e1",
   "metadata": {},
   "outputs": [],
   "source": []
  }
 ],
 "metadata": {
  "kernelspec": {
   "display_name": "Python 3 (ipykernel)",
   "language": "python",
   "name": "python3"
  },
  "language_info": {
   "codemirror_mode": {
    "name": "ipython",
    "version": 3
   },
   "file_extension": ".py",
   "mimetype": "text/x-python",
   "name": "python",
   "nbconvert_exporter": "python",
   "pygments_lexer": "ipython3",
   "version": "3.12.8"
  }
 },
 "nbformat": 4,
 "nbformat_minor": 5
}
