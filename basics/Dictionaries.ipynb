{
 "cells": [
  {
   "cell_type": "markdown",
   "id": "420d8ff6-222a-490f-9d0d-012826c34da9",
   "metadata": {},
   "source": [
    "<h1>Dictionaries in Python</h1>\n",
    "\n",
    " - Unlike sequences which are indexed by a range of numbers, Dictionary is indexed by `keys`\n",
    " - The key in dictionary can be any immutable type: Strings, numbers, tuples with strings and numbers\n",
    " - Lists cannot be used as keys in dictionary as lists are mutable and can be modified\n",
    " - Dictionary is a set of key: value pairs with keys being unique"
   ]
  },
  {
   "cell_type": "code",
   "execution_count": 30,
   "id": "8cd8dcd1-8598-4bf4-8dcd-14b84b981147",
   "metadata": {},
   "outputs": [
    {
     "name": "stdout",
     "output_type": "stream",
     "text": [
      "{'A': 1, 'B': 2, 'C': 3, 'D': 4}\n",
      "['A', 'B', 'C', 'D']\n",
      "3\n",
      "Is B present in letters dictionary: True\n",
      "Is D not present in letters dictionary: False\n"
     ]
    }
   ],
   "source": [
    "letters = {'A': 1, 'B': 2, 'C': 3, 'D': 4}\n",
    "\n",
    "print(letters)\n",
    "\n",
    "# All keys in a list\n",
    "print(list(letters))\n",
    "\n",
    "# Accessing a data by a key\n",
    "print(letters['C'])\n",
    "\n",
    "# Checking if a key exists in dictionary or not\n",
    "print('Is B present in letters dictionary:', 'B' in letters)\n",
    "print('Is D not present in letters dictionary:', 'D' not in letters)"
   ]
  },
  {
   "cell_type": "code",
   "execution_count": 31,
   "id": "9e64d8af-95ab-415d-b00b-f1f8e55fc98f",
   "metadata": {},
   "outputs": [
    {
     "name": "stdout",
     "output_type": "stream",
     "text": [
      "{'A': 1, 'B': 2, 'D': 4}\n"
     ]
    }
   ],
   "source": [
    "# To delete a key\n",
    "del(letters['C'])\n",
    "print(letters)"
   ]
  },
  {
   "cell_type": "code",
   "execution_count": 32,
   "id": "02588841-2eef-4afd-8225-2e167fef4c32",
   "metadata": {},
   "outputs": [
    {
     "name": "stdout",
     "output_type": "stream",
     "text": [
      "{1: 'January', 2: 'February', 3: 'March', 4: 'April', 5: 'May'}\n",
      "{'Student1': 95, 'Student2': 87, 'Student3': 79, 'Student4': 98}\n"
     ]
    }
   ],
   "source": [
    "# Other ways of creating dictionaries\n",
    "months = dict([(1, 'January'), (2, 'February'), (3, 'March'), (4, 'April'), (5, 'May')])\n",
    "print(months)\n",
    "\n",
    "# When key is a simple string\n",
    "marks = dict(Student1=95, Student2=87, Student3=79, Student4=98)\n",
    "print(marks)"
   ]
  },
  {
   "cell_type": "code",
   "execution_count": 33,
   "id": "9ad0b4db-7d0d-4749-96f9-d25296a40749",
   "metadata": {},
   "outputs": [
    {
     "name": "stdout",
     "output_type": "stream",
     "text": [
      "Student1 95\n",
      "Student2 87\n",
      "Student3 79\n",
      "Student4 98\n"
     ]
    }
   ],
   "source": [
    "# Looping through dictionaries\n",
    "for k,v in marks.items():\n",
    "    print(k,v)"
   ]
  },
  {
   "cell_type": "markdown",
   "id": "75f075ba-f623-4444-9f85-82b3ba17a68f",
   "metadata": {},
   "source": [
    "<h3> Methods in Dictionary</h3>"
   ]
  },
  {
   "cell_type": "code",
   "execution_count": 34,
   "id": "c4ed7162-2485-405f-a3f3-b902a47a457f",
   "metadata": {},
   "outputs": [
    {
     "data": {
      "text/plain": [
       "4"
      ]
     },
     "execution_count": 34,
     "metadata": {},
     "output_type": "execute_result"
    }
   ],
   "source": [
    "# len: Returns the length of dictionary\n",
    "len(marks)"
   ]
  },
  {
   "cell_type": "code",
   "execution_count": 35,
   "id": "b4948d80-4dc0-4ead-b55c-7f13b767432d",
   "metadata": {},
   "outputs": [
    {
     "data": {
      "text/plain": [
       "87"
      ]
     },
     "execution_count": 35,
     "metadata": {},
     "output_type": "execute_result"
    }
   ],
   "source": [
    "# get: Returns the value for a key if key is in dictionary, otherwise None \n",
    "marks.get('Student2')"
   ]
  },
  {
   "cell_type": "code",
   "execution_count": 40,
   "id": "34c602a5-4cec-45ba-bb6d-24d01fdcc97f",
   "metadata": {},
   "outputs": [
    {
     "name": "stdout",
     "output_type": "stream",
     "text": [
      "{'Student1': 95, 'Student2': 88, 'Student3': 79, 'Student4': 98, 'Student5': 90, 'Student6': 77, 'Student7': 74}\n"
     ]
    }
   ],
   "source": [
    "# update: updates the dictionary with key/value pairs from the given dict and overwrites existing keys\n",
    "marks.update(Student2=88, Student5=90, Student6=77, Student7=74)\n",
    "print(marks)"
   ]
  },
  {
   "cell_type": "code",
   "execution_count": 43,
   "id": "e67925b2-42b1-4f03-8a29-6bddba26fd8e",
   "metadata": {},
   "outputs": [
    {
     "data": {
      "text/plain": [
       "['Student7',\n",
       " 'Student6',\n",
       " 'Student5',\n",
       " 'Student4',\n",
       " 'Student3',\n",
       " 'Student2',\n",
       " 'Student1']"
      ]
     },
     "execution_count": 43,
     "metadata": {},
     "output_type": "execute_result"
    }
   ],
   "source": [
    "# reversed: Returns a reverse iterator over the keys of the dictionary\n",
    "list(reversed(marks))"
   ]
  },
  {
   "cell_type": "code",
   "execution_count": 52,
   "id": "d91d8f51-e7bd-4d0b-a1d2-effefa3cab71",
   "metadata": {},
   "outputs": [
    {
     "name": "stdout",
     "output_type": "stream",
     "text": [
      "0\n",
      "{'Student1': 95, 'Student2': 88, 'Student3': 79, 'Student4': 98, 'Student5': 90, 'Student6': 77, 'Student7': 74, 'Student8': 0}\n"
     ]
    }
   ],
   "source": [
    "# setdefault: If key is in the dictionary, return its value. \n",
    "# If not, insert key with a value of default and return default. default defaults to None.\n",
    "print(marks.setdefault('Student8', 0))\n",
    "print(marks)"
   ]
  },
  {
   "cell_type": "markdown",
   "id": "e618ca41-9c31-4e6d-8926-580746d59625",
   "metadata": {},
   "source": [
    "<h3>Dictionary View Objects</h3>\n",
    "\n",
    "The objects returned by dict.keys(), dict.values() and dict.items() are view objects. \n",
    "\n",
    "They provide a dynamic view on the dictionary’s entries, which means that when the dictionary changes, the view reflects these changes."
   ]
  },
  {
   "cell_type": "code",
   "execution_count": 37,
   "id": "644c2146-2acf-4c68-9047-262a952a4035",
   "metadata": {},
   "outputs": [
    {
     "name": "stdout",
     "output_type": "stream",
     "text": [
      "dict_keys([1, 2, 3, 4, 5])\n",
      "dict_values(['January', 'February', 'March', 'April', 'May'])\n",
      "January\n",
      "February\n",
      "March\n",
      "April\n",
      "May\n"
     ]
    }
   ],
   "source": [
    "# Getting all the keys and values in dictionary\n",
    "keys = months.keys()\n",
    "values = months.values()\n",
    "\n",
    "print(keys)\n",
    "print(values)\n",
    "\n",
    "# printing the item from dictionary for the corresponding key\n",
    "for k in keys:\n",
    "    print(months[k])"
   ]
  },
  {
   "cell_type": "code",
   "execution_count": 38,
   "id": "8217d524-408f-4608-819c-52df1a22690e",
   "metadata": {},
   "outputs": [
    {
     "ename": "KeyError",
     "evalue": "6",
     "output_type": "error",
     "traceback": [
      "\u001b[0;31m---------------------------------------------------------------------------\u001b[0m",
      "\u001b[0;31mKeyError\u001b[0m                                  Traceback (most recent call last)",
      "Cell \u001b[0;32mIn[38], line 2\u001b[0m\n\u001b[1;32m      1\u001b[0m \u001b[38;5;66;03m# if key is not present KeyError is raised\u001b[39;00m\n\u001b[0;32m----> 2\u001b[0m \u001b[38;5;28mprint\u001b[39m(\u001b[43mmonths\u001b[49m\u001b[43m[\u001b[49m\u001b[38;5;241;43m6\u001b[39;49m\u001b[43m]\u001b[49m)\n",
      "\u001b[0;31mKeyError\u001b[0m: 6"
     ]
    }
   ],
   "source": [
    "# if key is not present KeyError is raised\n",
    "print(months[6])"
   ]
  },
  {
   "cell_type": "code",
   "execution_count": null,
   "id": "9666d942-c8df-4dc6-a36a-b286e896ded9",
   "metadata": {},
   "outputs": [],
   "source": [
    "# Adding a key value in dictionary\n",
    "months[6] = 'June'"
   ]
  },
  {
   "cell_type": "code",
   "execution_count": null,
   "id": "29dee96d-7985-4c06-b8dd-fb0d2095b461",
   "metadata": {},
   "outputs": [],
   "source": [
    "print(keys)"
   ]
  }
 ],
 "metadata": {
  "kernelspec": {
   "display_name": "Python 3 (ipykernel)",
   "language": "python",
   "name": "python3"
  },
  "language_info": {
   "codemirror_mode": {
    "name": "ipython",
    "version": 3
   },
   "file_extension": ".py",
   "mimetype": "text/x-python",
   "name": "python",
   "nbconvert_exporter": "python",
   "pygments_lexer": "ipython3",
   "version": "3.9.6"
  }
 },
 "nbformat": 4,
 "nbformat_minor": 5
}
